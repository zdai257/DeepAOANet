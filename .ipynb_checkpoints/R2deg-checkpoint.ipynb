{
 "cells": [
  {
   "cell_type": "markdown",
   "metadata": {},
   "source": [
    "# Support vector regression\n",
    "\n",
    "Here is the nice article how support vector method can also be used for regression.\n",
    "\n",
    "https://www.saedsayad.com/support_vector_machine_reg.htm"
   ]
  },
  {
   "cell_type": "code",
   "execution_count": 1,
   "metadata": {},
   "outputs": [],
   "source": [
    "import numpy as np\n",
    "import pandas as pd\n",
    "import matplotlib.pyplot as plt\n",
    "%matplotlib inline\n",
    "import seaborn as sns\n",
    "\n",
    "from sklearn"
   ]
  },
  {
   "cell_type": "markdown",
   "metadata": {},
   "source": [
    "### A simple nonlinear function\n",
    "The aim is to create some synthetic data which is not very amenable for linear regression models. We will show how a Support Vector regressor enhances the predictive performance."
   ]
  },
  {
   "cell_type": "code",
   "execution_count": 2,
   "metadata": {},
   "outputs": [],
   "source": [
    "def nonlinear(array):\n",
    "    return (10*array[:,0]-np.exp(0.01*array[:,1]+np.log(1+array[:,2]**2)))/(array[:,3]**2+5)"
   ]
  },
  {
   "cell_type": "markdown",
   "metadata": {},
   "source": [
    "### Generate features and target data for regression"
   ]
  },
  {
   "cell_type": "code",
   "execution_count": 3,
   "metadata": {},
   "outputs": [],
   "source": [
    "n_samples = 200\n",
    "n_features = 4"
   ]
  },
  {
   "cell_type": "code",
   "execution_count": 4,
   "metadata": {},
   "outputs": [
    {
     "name": "stdout",
     "output_type": "stream",
     "text": [
      "[[4.70974453e+00 6.05216608e-01 3.49919808e+00 2.61562641e+00]\n",
      " [4.41117742e+00 2.92066342e-02 6.44222320e-01 5.55996023e-01]\n",
      " [2.80729167e+00 3.00880417e-01 1.53130655e+00 1.01454198e-01]\n",
      " [2.38437967e+00 4.37405933e+00 2.41705056e+00 8.21985110e-01]\n",
      " [2.07606369e-01 4.20725125e+00 1.99161060e+00 4.14198307e+00]\n",
      " [1.42682105e-01 8.45926126e-01 3.66674185e+00 2.58094126e-01]\n",
      " [3.87450881e+00 1.68716023e+00 3.15565536e+00 4.94337388e+00]\n",
      " [2.39333302e+00 1.28882529e+00 3.88697758e+00 2.45768328e+00]\n",
      " [1.85812481e+00 1.96188768e+00 1.29889313e-01 1.04992395e+00]\n",
      " [4.04479351e+00 4.64452083e+00 6.31924680e-01 2.95426773e+00]\n",
      " [2.89391857e+00 2.18693313e+00 3.93406943e+00 4.59140136e+00]\n",
      " [9.49311231e-01 5.21677634e-01 4.31557190e+00 4.64787846e+00]\n",
      " [2.70869620e+00 2.21886742e-02 3.83436838e+00 2.96110226e+00]\n",
      " [7.43779470e-01 1.86878217e+00 4.31563904e+00 1.41957491e+00]\n",
      " [3.28109358e+00 1.61183403e+00 4.06177959e+00 2.29681793e-01]\n",
      " [1.03733278e+00 2.56327228e+00 3.45428747e+00 4.91021049e+00]\n",
      " [3.52693575e+00 2.85097322e+00 3.98048197e+00 2.72293438e+00]\n",
      " [5.25481859e-01 7.70748017e-02 1.51303972e+00 1.78137279e+00]\n",
      " [1.66540916e+00 9.01375509e-01 7.98421334e-01 7.22972341e-01]\n",
      " [4.34512464e+00 2.48203227e+00 1.81077889e+00 3.31654433e+00]\n",
      " [3.29556746e+00 4.29139953e+00 9.34219973e-01 1.24754385e+00]\n",
      " [9.13835643e-01 2.21810130e+00 1.51941281e+00 6.21159885e-01]\n",
      " [3.56595596e+00 4.94086544e+00 2.52405427e+00 8.64858056e-01]\n",
      " [3.83058571e+00 1.22685784e-01 2.14719491e+00 4.25141768e+00]\n",
      " [3.51829216e+00 1.15764014e+00 3.60767891e+00 1.45294475e+00]\n",
      " [3.82937773e+00 1.61270643e+00 2.19705702e+00 4.93458506e-01]\n",
      " [5.33269876e-01 2.80356568e+00 1.47839907e+00 9.89659348e-01]\n",
      " [6.26301441e-01 1.59668976e+00 2.08544048e+00 4.18557186e+00]\n",
      " [3.58242703e-01 5.37879192e-01 1.17941803e+00 2.69428613e+00]\n",
      " [4.80435741e+00 8.79725950e-01 1.75850859e+00 6.12078325e-01]\n",
      " [3.28504445e+00 2.35296815e+00 1.67630163e+00 2.99316109e+00]\n",
      " [1.90059605e+00 1.88763179e+00 2.50904207e+00 1.47767660e+00]\n",
      " [7.84265637e-01 9.12937532e-01 3.56678394e+00 4.28079613e+00]\n",
      " [3.68544959e+00 4.85137488e+00 4.76938503e+00 9.99966870e-01]\n",
      " [4.83949097e+00 2.97145083e-01 4.99910658e+00 4.31459568e+00]\n",
      " [1.24401439e+00 7.35950608e-01 4.62905688e+00 4.78008996e+00]\n",
      " [1.92533430e+00 5.86821701e-01 3.47862191e+00 2.02455036e+00]\n",
      " [2.02893884e-01 2.93789721e-02 3.56243682e+00 3.13812566e-01]\n",
      " [5.70586348e-01 2.62903800e+00 1.56075934e+00 4.51550568e+00]\n",
      " [1.85893424e+00 3.80624418e+00 1.75311670e+00 2.36046067e+00]\n",
      " [4.80676048e+00 3.06999439e+00 1.12046594e+00 3.94038076e+00]\n",
      " [4.47078882e+00 1.43039673e+00 6.43614277e-01 2.89957728e+00]\n",
      " [4.06820999e+00 5.04823625e-01 2.57627453e+00 1.25721343e+00]\n",
      " [5.35299421e-01 4.81066949e+00 2.01817255e+00 3.48243939e+00]\n",
      " [1.59790097e+00 3.32045207e-01 2.01661545e+00 3.04847746e+00]\n",
      " [5.43101015e-01 5.48058132e-01 2.07847718e+00 2.16321825e+00]\n",
      " [2.04702967e+00 1.58615762e+00 2.91826356e+00 2.95944766e+00]\n",
      " [1.58047676e+00 1.50402572e-01 4.13935430e+00 3.23924726e+00]\n",
      " [2.92505427e+00 6.83141215e-01 2.92779153e+00 6.29324115e-01]\n",
      " [3.63767597e+00 4.89371793e+00 2.37861715e+00 4.68345316e+00]\n",
      " [1.68226670e+00 1.69729702e-02 7.27648207e-01 4.53059214e+00]\n",
      " [2.50635804e+00 2.34753304e+00 3.23843252e+00 4.69515272e+00]\n",
      " [4.04332815e+00 3.10791051e+00 3.93199197e+00 2.20228770e+00]\n",
      " [4.92124681e+00 4.12474364e+00 3.68257124e+00 1.80518893e+00]\n",
      " [3.71065086e+00 7.35878923e-01 8.84683225e-01 1.69290036e+00]\n",
      " [3.99561926e-01 4.75445460e+00 2.01660670e+00 4.90043508e+00]\n",
      " [2.79420556e+00 2.43794883e+00 8.47056673e-01 2.64817927e+00]\n",
      " [1.46569895e+00 2.75559235e+00 2.09565349e+00 4.72059786e+00]\n",
      " [1.22848185e+00 1.28576790e+00 1.62314400e+00 3.56585278e+00]\n",
      " [9.24082821e-01 2.99260230e+00 7.80802107e-03 4.40164715e+00]\n",
      " [1.92276248e+00 1.51498886e+00 1.29511237e+00 8.69072190e-01]\n",
      " [4.30795550e+00 3.84810856e-01 4.86713428e+00 3.33924117e+00]\n",
      " [4.76091212e+00 4.90151488e+00 9.44467921e-02 2.13268907e-01]\n",
      " [3.01796675e+00 8.03245525e-01 3.29422735e+00 2.57752347e+00]\n",
      " [2.43121971e+00 4.39047864e+00 4.52892594e+00 4.82080091e+00]\n",
      " [4.39874480e+00 1.16755526e+00 7.78270414e-01 1.78534274e+00]\n",
      " [4.69132411e+00 2.70977462e+00 2.31729624e+00 3.21194372e+00]\n",
      " [4.53510337e-01 1.21088938e+00 3.80025610e+00 1.47357476e+00]\n",
      " [1.14009499e+00 3.57211406e+00 8.40033967e-01 2.52428243e+00]\n",
      " [5.32944693e-01 4.41533634e-01 5.23640048e-01 1.77211436e+00]\n",
      " [8.04909354e-01 4.69417983e-01 7.88845389e-01 2.19777035e+00]\n",
      " [3.80869323e+00 3.50357198e+00 1.87400772e+00 5.62297303e-01]\n",
      " [4.49118150e+00 3.37306643e+00 2.64459248e+00 1.83937321e+00]\n",
      " [6.94426087e-01 2.37174651e+00 9.97736803e-01 4.51044245e-01]\n",
      " [7.53244544e-02 3.56809987e+00 3.68879743e+00 1.88215122e+00]\n",
      " [2.01394326e+00 3.58249524e+00 4.78050499e+00 3.67380996e+00]\n",
      " [1.86442353e+00 3.20780830e-02 1.11213734e+00 8.72456735e-01]\n",
      " [3.99993871e+00 4.45241314e+00 3.70789597e-01 3.35424481e+00]\n",
      " [4.11175253e+00 4.15712510e+00 1.53622252e+00 3.69696038e+00]\n",
      " [9.93994450e-02 4.08467005e+00 1.60284406e+00 4.65008589e+00]\n",
      " [2.56121399e+00 2.70489484e+00 2.38724280e+00 4.18878492e+00]\n",
      " [2.03473106e+00 3.75913349e+00 5.39757377e-01 1.25500583e+00]\n",
      " [4.17289813e+00 4.45283437e+00 4.21891461e+00 1.61749325e+00]\n",
      " [1.46806444e+00 4.58586387e-01 3.73238385e+00 1.25962109e+00]\n",
      " [8.39250382e-01 4.07627753e+00 2.67549455e+00 3.47688235e-01]\n",
      " [1.83787777e+00 2.09427863e+00 3.92776711e+00 1.69952049e+00]\n",
      " [4.08650219e+00 2.65065474e+00 3.64028090e-01 4.94073329e+00]\n",
      " [2.00682498e-01 2.52872484e-02 2.93361743e+00 3.65934577e+00]\n",
      " [9.14067653e-01 2.83783954e+00 2.41504974e+00 1.40079263e+00]\n",
      " [1.35630923e+00 2.80346892e+00 2.00776177e+00 3.45905752e+00]\n",
      " [4.02358890e+00 6.04069842e-01 4.63504140e+00 1.09710956e-01]\n",
      " [2.08514801e+00 4.83715532e+00 2.23260284e+00 3.61788388e-01]\n",
      " [4.40116057e+00 4.30970771e+00 5.50948097e-02 1.57742344e-01]\n",
      " [2.58427373e+00 3.09529768e+00 3.70834282e-02 1.81160018e+00]\n",
      " [3.44552366e+00 3.60987326e+00 4.59084656e+00 3.82241322e+00]\n",
      " [1.99458563e+00 3.23323401e+00 3.98623049e+00 9.29154027e-01]\n",
      " [2.40973412e+00 4.68311249e+00 1.78744650e+00 3.02899723e+00]\n",
      " [2.17713398e+00 2.25572881e+00 2.31873289e+00 3.68625115e+00]\n",
      " [4.40524698e+00 7.75375583e-01 1.71364453e+00 4.42613492e+00]\n",
      " [3.52898196e+00 3.98880690e+00 1.21566689e+00 6.80864952e-01]\n",
      " [9.22111927e-01 1.82424018e+00 1.35024027e-01 2.14808893e+00]\n",
      " [6.04199893e-01 2.38342395e+00 3.69357758e+00 1.40929112e+00]\n",
      " [3.63555237e-01 1.56041854e+00 2.01095507e+00 4.85467388e+00]\n",
      " [6.51080768e-01 3.23912220e+00 4.87128607e-01 4.27960978e+00]\n",
      " [4.42648435e+00 1.11811517e+00 1.01258311e+00 3.86529699e+00]\n",
      " [3.83158015e+00 3.95011220e-01 8.00249334e-01 2.42539377e+00]\n",
      " [2.51966644e+00 7.17872658e-01 2.52270039e+00 2.44146278e-01]\n",
      " [1.98425029e+00 3.41528777e+00 2.82211984e+00 3.44764490e+00]\n",
      " [3.80376771e+00 4.82641396e+00 4.45590368e+00 2.72122529e+00]\n",
      " [6.44361862e-01 3.29307322e+00 4.84179774e+00 2.45899167e+00]\n",
      " [3.08348428e+00 3.38323417e+00 3.92717916e-01 1.96357265e+00]\n",
      " [4.34765703e-01 3.51725368e+00 3.20778606e+00 5.72646215e-01]\n",
      " [1.90183890e+00 4.48951817e+00 4.66959498e+00 4.38951643e+00]\n",
      " [3.00191638e+00 1.88833601e+00 2.94694789e+00 4.00894050e+00]\n",
      " [3.80297677e+00 3.00997718e+00 7.44576009e-01 1.38718575e-01]\n",
      " [4.78475554e-01 1.55693264e+00 3.39310928e+00 4.46275114e+00]\n",
      " [3.44714287e+00 4.26816417e+00 6.65544354e-01 3.62901111e+00]\n",
      " [1.33773112e-01 3.24833518e+00 1.44000423e+00 4.77094623e+00]\n",
      " [4.25857914e+00 6.49329276e-01 4.97612765e+00 4.47165588e+00]\n",
      " [4.01203040e+00 4.04469039e+00 4.10978086e+00 1.02756786e+00]\n",
      " [2.64080682e+00 4.94191740e+00 4.46056388e+00 2.88114957e+00]\n",
      " [2.20460249e-02 3.17763283e+00 1.44689938e+00 8.89915543e-01]\n",
      " [2.41708623e+00 3.74034858e+00 1.39689511e+00 7.32940250e-01]\n",
      " [2.88218971e+00 6.28784581e-01 1.68655681e+00 1.57358646e+00]\n",
      " [2.54691785e-01 4.09403958e+00 2.38800824e+00 4.67328174e+00]\n",
      " [2.69499755e+00 4.39147318e+00 4.84431381e+00 2.50969945e+00]\n",
      " [4.83941434e+00 2.06717178e+00 1.23001192e+00 4.05742316e+00]\n",
      " [5.81380001e-01 2.12319401e+00 1.86381078e+00 3.54030846e+00]\n",
      " [1.34190831e+00 3.45262352e+00 2.30637795e+00 3.13466516e+00]\n",
      " [3.84409509e+00 2.23539452e+00 1.40774221e+00 2.94112877e+00]\n",
      " [4.08698172e+00 1.31332132e+00 1.13018266e+00 3.72514507e+00]\n",
      " [4.63652927e+00 1.42206391e+00 3.50042456e+00 2.78779926e+00]\n",
      " [7.94507388e-01 7.73558001e-01 9.28128779e-01 4.89926683e+00]\n",
      " [4.73944196e+00 2.29044805e+00 9.48143813e-01 4.50717543e-01]\n",
      " [4.79135567e+00 1.97036146e+00 2.48410278e+00 4.37402640e+00]\n",
      " [2.24988702e+00 2.65260109e+00 1.67817267e+00 5.19461812e-02]\n",
      " [1.96302393e+00 4.23644792e+00 4.91212139e+00 1.04102520e+00]\n",
      " [2.15570706e+00 6.75575451e-02 1.86674261e-01 1.76855034e+00]\n",
      " [4.64084307e+00 4.71406148e-01 3.64751203e+00 5.70425768e-01]\n",
      " [3.70954960e+00 2.94503711e+00 2.66664646e+00 1.11204873e+00]\n",
      " [9.15544658e-01 2.72450539e+00 3.50714776e+00 1.31942755e+00]\n",
      " [4.42429716e-01 1.30563818e+00 2.48636563e-01 4.63678889e+00]\n",
      " [3.60120996e+00 4.99031779e+00 4.97503937e+00 3.25788731e+00]\n",
      " [1.73701211e-01 4.71516060e+00 3.69954254e+00 2.00657856e-01]\n",
      " [4.50291958e+00 4.81598359e+00 3.57501174e+00 3.77473366e+00]\n",
      " [2.92104732e+00 3.90209934e+00 1.67514323e+00 4.50588224e+00]\n",
      " [4.94891053e+00 9.28499615e-01 3.14702435e+00 1.51104688e+00]\n",
      " [4.86485284e+00 1.39747805e-01 2.76919011e+00 1.09453744e+00]\n",
      " [3.83694043e+00 1.64298676e+00 4.04769858e+00 1.60999150e+00]\n",
      " [3.05652673e+00 2.57756875e+00 6.81787442e-02 1.81312261e+00]\n",
      " [4.91264962e-01 8.22928053e-03 1.49832850e+00 2.02503913e+00]\n",
      " [1.73011142e+00 4.02021769e+00 3.21708279e-01 3.54996457e+00]\n",
      " [2.03132132e-01 4.00257854e+00 3.36853139e+00 9.44258281e-01]\n",
      " [2.92577665e+00 6.61316353e-01 1.32133276e+00 3.37833304e+00]\n",
      " [1.02665579e+00 1.57259570e-01 3.68023669e+00 3.01758250e+00]\n",
      " [4.74548635e+00 1.00061185e+00 1.45200188e+00 1.09737466e+00]\n",
      " [3.86010200e+00 4.78395373e+00 1.21327132e-01 1.18675887e+00]\n",
      " [3.31132480e+00 1.67714162e+00 3.45710541e+00 4.36329133e+00]\n",
      " [2.32375947e+00 4.99477009e+00 2.67622288e+00 5.35930505e-01]\n",
      " [7.86267721e-01 2.53686429e+00 1.60077758e-01 2.91717413e-01]\n",
      " [2.96076479e+00 2.77439160e+00 4.37239515e+00 9.74234129e-01]\n",
      " [1.61050284e+00 4.00378588e+00 3.03599132e+00 2.66820097e+00]\n",
      " [5.89337824e-01 4.93964045e-01 5.97168329e-01 1.10702615e+00]\n",
      " [6.24140804e-01 4.72950611e+00 3.46783874e-01 3.63641296e+00]\n",
      " [2.19432880e+00 7.80844723e-01 3.72888867e+00 4.18566223e+00]\n",
      " [2.86960048e+00 2.42538063e+00 2.37442377e+00 2.38871870e-03]\n",
      " [3.04802307e+00 8.51895783e-01 2.14036651e+00 4.68878886e+00]\n",
      " [1.82305587e+00 3.29664787e+00 1.14052196e+00 4.80529353e+00]\n",
      " [4.76552563e+00 1.64287701e+00 1.12945281e+00 3.74655034e+00]\n",
      " [9.56983331e-01 1.24443528e+00 4.89125919e+00 3.48349164e+00]\n",
      " [3.75362673e+00 3.79458448e-04 1.85152904e+00 1.10087585e+00]\n",
      " [2.43300543e+00 4.40456064e+00 3.24774508e+00 2.50654560e+00]\n",
      " [2.34516661e+00 3.52299081e+00 5.89449397e-01 3.85216043e+00]\n",
      " [4.53416281e+00 4.36728642e-01 2.53658655e+00 2.64564030e+00]\n",
      " [4.89963023e+00 2.02856214e-01 3.86707099e+00 2.11249410e+00]\n",
      " [3.13312629e+00 4.82369036e+00 3.90220767e+00 2.90340913e+00]\n",
      " [1.41527085e+00 1.22099023e+00 3.11969950e+00 8.16452981e-03]\n",
      " [4.98277269e+00 4.06326568e+00 4.84164496e+00 1.78814096e+00]\n",
      " [8.82874943e-01 3.74150439e+00 8.28771996e-01 3.37908654e+00]\n",
      " [4.48235578e+00 3.84925081e-01 2.30059289e+00 3.05041341e-01]\n",
      " [2.94994015e+00 1.31185321e+00 1.27102766e+00 1.88665965e+00]\n",
      " [9.80615241e-01 3.89213921e-01 1.93268467e-01 2.87185284e+00]\n",
      " [2.84178359e+00 4.97593690e+00 1.18361699e+00 4.68984167e+00]\n",
      " [1.29875033e-01 4.45523992e+00 4.77604911e-01 4.37929679e+00]\n",
      " [3.86839621e+00 3.16490419e+00 4.42886086e+00 1.11477116e+00]\n",
      " [3.23477732e+00 2.18288255e+00 1.90171922e+00 1.18648804e+00]\n",
      " [5.36262998e-01 3.41936524e+00 4.52055868e+00 3.75710642e+00]\n",
      " [4.79031941e+00 5.22218924e-02 2.86986789e+00 2.58810180e+00]\n",
      " [4.81500602e+00 4.65072764e-01 4.15046337e+00 5.60732624e-01]\n",
      " [2.14311985e+00 2.68336966e-01 3.56327267e+00 2.39297553e+00]\n",
      " [2.48199797e-01 4.53385897e+00 2.39596785e+00 2.45030167e+00]\n",
      " [1.48778461e+00 1.03844407e+00 8.26243284e-01 7.57871396e-01]\n",
      " [9.00202588e-02 1.81022779e+00 2.71790752e+00 4.15092731e+00]\n",
      " [4.30238623e+00 1.06485064e+00 2.88124609e+00 1.64849376e+00]\n",
      " [2.82452470e+00 4.15242551e+00 1.88276699e+00 1.31923770e+00]\n",
      " [3.27115333e+00 4.61271268e+00 4.89811172e+00 3.08081088e+00]\n",
      " [3.60089591e+00 1.66506779e+00 3.16140366e+00 4.32269646e-01]\n",
      " [1.07685780e+00 4.97006291e+00 4.71980440e+00 3.90408179e+00]\n",
      " [1.32718733e+00 2.99894101e-02 1.93846382e+00 8.91658196e-01]\n",
      " [3.91798133e+00 2.16562472e+00 1.00986081e+00 3.14093542e+00]]\n"
     ]
    }
   ],
   "source": [
    "x = 5*np.random.rand(n_samples,n_features)\n",
    "print(x)"
   ]
  },
  {
   "cell_type": "code",
   "execution_count": 5,
   "metadata": {},
   "outputs": [
    {
     "name": "stdout",
     "output_type": "stream",
     "text": [
      "[ 1.58111935e+00  9.42347017e+00  6.15907595e+00  2.80535368e+00\n",
      " -1.34082129e-01 -3.91997626e+00  5.96688194e-01 -1.73673625e+00\n",
      "  4.07532798e+00  2.02796079e+00 -3.04204112e-01 -1.26399525e+00\n",
      "  2.32484930e+00 -2.31152047e+00  3.11585021e+00 -3.36579658e-01\n",
      "  1.67312949e+00 -5.14455271e-01  3.42338495e+00  2.18761799e+00\n",
      "  3.59848747e+00 -1.42908731e+00  2.85286058e+00  2.71049539e+00\n",
      "  3.03499279e+00  6.24813968e+00 -7.74960510e-01 -6.05351301e-01\n",
      "  1.80454185e+00  7.24920230e+00  9.21077478e-01  2.41073471e-01\n",
      " -1.25365111e+00  1.61405566e+00  1.22190834e+00 -1.34051118e+00\n",
      "  1.07173694e+00 -3.16510924e+00 -1.82607748e-01  5.18316431e-01\n",
      "  3.05202650e+00  2.93694434e+00  4.18809884e+00  3.03667834e-01\n",
      "  3.93238621e-01  6.76513284e-01  9.62786460e-01 -1.31779376e+00\n",
      "  4.15948887e+00  2.47886376e+00 -1.65641796e+00  7.78802101e-01\n",
      "  2.16199078e+00  4.48216933e+00  5.74950589e+00 -9.04566998e-01\n",
      "  1.77733382e+00  2.71672539e+00 -9.95713767e-01  2.03737090e+00\n",
      "  3.93152990e+00  9.23177031e-01  9.78451711e+00  1.20312262e+00\n",
      "  3.06614796e+00  5.90256503e+00  3.60500758e+00 -4.32031760e+00\n",
      "  2.13816988e+00  7.83774706e-01 -7.54564933e-02  7.25767999e+00\n",
      "  3.24679838e+00 -5.38002964e-03 -1.44927137e+00 -1.14355363e-01\n",
      "  1.89259979e+00  2.81598039e+00  3.34332848e+00  2.07923773e+00\n",
      "  1.57357923e+00  1.16774526e+00  2.16813817e+00  8.41150898e-01\n",
      " -1.55669301e-01 -6.84984788e-01  9.67941196e-01  4.20406929e-01\n",
      "  1.16863569e+00  3.46157153e-01  5.04193918e+00  2.80567167e+00\n",
      "  8.66844127e+00  2.03730549e+00  6.36801924e-01  8.32198572e-01\n",
      " -1.85369056e+00 -2.15487876e-01  5.17160246e-01  7.99904248e+00\n",
      "  3.49173097e+00 -1.75621111e+00 -3.52352828e-01 -1.60049812e+00\n",
      "  1.62270386e+00  4.64206965e+00  3.06319360e+00  3.22592798e-01\n",
      "  1.88013681e+00 -2.36396522e+00  2.37022670e+00 -1.10499017e+00\n",
      "  7.42175095e-01 -3.65486684e-01  6.19687420e+00 -1.10985080e+00\n",
      "  2.63432805e+00  9.39250744e-01 -3.92580668e-01  3.37933476e+00\n",
      "  1.00884891e+00  1.99038663e+00  2.49774671e+00  3.15980491e+00\n",
      "  1.66326499e+00  2.95575926e-01  1.77489459e+00  6.93408430e-01\n",
      "  1.16818995e-01  1.59157852e+00  2.06286571e+00  1.41970829e+00\n",
      "  1.19026117e+00  9.96078469e+00  1.02291642e+00  4.14478832e+00\n",
      " -8.18149074e-01  2.10947814e+00  5.46792943e+00  4.64793862e+00\n",
      " -7.05453130e-01 -5.81968979e-01  4.41691282e-01 -2.09602565e+00\n",
      "  1.03741976e-01  4.88922244e-02  5.66754254e+00  5.36611450e+00\n",
      "  3.57168484e+00  2.39926336e+00  1.95061593e+00  3.88184645e+00\n",
      " -2.20959842e+00  2.30485921e+00  1.16477214e+00  6.93134500e+00\n",
      "  5.79796290e+00  3.04705653e+00  3.00477941e+00  1.29216018e+00\n",
      "  2.49080225e+00  9.47863061e-01  2.44698067e-01 -9.07396724e-01\n",
      " -6.77374055e-01  4.66511046e+00  1.58811909e+00 -1.38840094e-01\n",
      "  3.44222305e+00 -9.64820167e-01  4.79502864e+00  1.81377450e+00\n",
      "  6.93996183e-01  2.90163980e+00  3.19538272e+00  1.34587295e+00\n",
      "  1.30508447e+00  3.94250569e+00  2.60186460e-01  6.99498207e+00\n",
      "  4.02635923e+00 -9.10484139e-01  2.09612295e+00 -1.36028491e+00\n",
      "  2.69834946e+00  3.62642667e+00 -7.11336704e-01  4.51907613e+00\n",
      "  6.12102155e+00  1.40112637e+00 -1.98324793e+00  2.87589080e+00\n",
      "  1.38388547e+00  4.85799071e+00  4.22340108e+00 -1.00710239e+00\n",
      "  4.41878872e+00 -1.74612041e+00  3.81543789e-01  1.66709845e+00]\n"
     ]
    }
   ],
   "source": [
    "y = nonlinear(x)+np.random.randn(n_samples)\n",
    "print(y)"
   ]
  },
  {
   "cell_type": "code",
   "execution_count": 6,
   "metadata": {},
   "outputs": [],
   "source": [
    "y=y.reshape(n_samples,1)"
   ]
  },
  {
   "cell_type": "code",
   "execution_count": 7,
   "metadata": {},
   "outputs": [],
   "source": [
    "df = pd.DataFrame(data=np.hstack((x,y)),columns=['X1','X2','X3','X4','y'])"
   ]
  },
  {
   "cell_type": "code",
   "execution_count": 39,
   "metadata": {},
   "outputs": [
    {
     "data": {
      "text/html": [
       "<div>\n",
       "<style scoped>\n",
       "    .dataframe tbody tr th:only-of-type {\n",
       "        vertical-align: middle;\n",
       "    }\n",
       "\n",
       "    .dataframe tbody tr th {\n",
       "        vertical-align: top;\n",
       "    }\n",
       "\n",
       "    .dataframe thead th {\n",
       "        text-align: right;\n",
       "    }\n",
       "</style>\n",
       "<table border=\"1\" class=\"dataframe\">\n",
       "  <thead>\n",
       "    <tr style=\"text-align: right;\">\n",
       "      <th></th>\n",
       "      <th>X1</th>\n",
       "      <th>X2</th>\n",
       "      <th>X3</th>\n",
       "      <th>X4</th>\n",
       "      <th>y</th>\n",
       "    </tr>\n",
       "  </thead>\n",
       "  <tbody>\n",
       "    <tr>\n",
       "      <th>0</th>\n",
       "      <td>4.709745</td>\n",
       "      <td>0.605217</td>\n",
       "      <td>3.499198</td>\n",
       "      <td>2.615626</td>\n",
       "      <td>1.581119</td>\n",
       "    </tr>\n",
       "    <tr>\n",
       "      <th>1</th>\n",
       "      <td>4.411177</td>\n",
       "      <td>0.029207</td>\n",
       "      <td>0.644222</td>\n",
       "      <td>0.555996</td>\n",
       "      <td>9.423470</td>\n",
       "    </tr>\n",
       "    <tr>\n",
       "      <th>2</th>\n",
       "      <td>2.807292</td>\n",
       "      <td>0.300880</td>\n",
       "      <td>1.531307</td>\n",
       "      <td>0.101454</td>\n",
       "      <td>6.159076</td>\n",
       "    </tr>\n",
       "    <tr>\n",
       "      <th>3</th>\n",
       "      <td>2.384380</td>\n",
       "      <td>4.374059</td>\n",
       "      <td>2.417051</td>\n",
       "      <td>0.821985</td>\n",
       "      <td>2.805354</td>\n",
       "    </tr>\n",
       "    <tr>\n",
       "      <th>4</th>\n",
       "      <td>0.207606</td>\n",
       "      <td>4.207251</td>\n",
       "      <td>1.991611</td>\n",
       "      <td>4.141983</td>\n",
       "      <td>-0.134082</td>\n",
       "    </tr>\n",
       "  </tbody>\n",
       "</table>\n",
       "</div>"
      ],
      "text/plain": [
       "         X1        X2        X3        X4         y\n",
       "0  4.709745  0.605217  3.499198  2.615626  1.581119\n",
       "1  4.411177  0.029207  0.644222  0.555996  9.423470\n",
       "2  2.807292  0.300880  1.531307  0.101454  6.159076\n",
       "3  2.384380  4.374059  2.417051  0.821985  2.805354\n",
       "4  0.207606  4.207251  1.991611  4.141983 -0.134082"
      ]
     },
     "execution_count": 39,
     "metadata": {},
     "output_type": "execute_result"
    }
   ],
   "source": [
    "df.head()"
   ]
  },
  {
   "cell_type": "code",
   "execution_count": 37,
   "metadata": {},
   "outputs": [
    {
     "name": "stdout",
     "output_type": "stream",
     "text": [
      "<class 'pandas.core.frame.DataFrame'>\n",
      "RangeIndex: 200 entries, 0 to 199\n",
      "Data columns (total 5 columns):\n",
      " #   Column  Non-Null Count  Dtype  \n",
      "---  ------  --------------  -----  \n",
      " 0   X1      200 non-null    float64\n",
      " 1   X2      200 non-null    float64\n",
      " 2   X3      200 non-null    float64\n",
      " 3   X4      200 non-null    float64\n",
      " 4   y       200 non-null    float64\n",
      "dtypes: float64(5)\n",
      "memory usage: 7.9 KB\n"
     ]
    }
   ],
   "source": [
    "df.info()"
   ]
  },
  {
   "cell_type": "code",
   "execution_count": 40,
   "metadata": {},
   "outputs": [
    {
     "data": {
      "text/plain": [
       "-0.677374    1\n",
       "-0.336580    1\n",
       " 2.187618    1\n",
       " 4.188099    1\n",
       " 1.892600    1\n",
       "            ..\n",
       " 0.381544    1\n",
       "-2.209598    1\n",
       "-0.215488    1\n",
       " 4.519076    1\n",
       " 0.962786    1\n",
       "Name: y, Length: 200, dtype: int64"
      ]
     },
     "execution_count": 40,
     "metadata": {},
     "output_type": "execute_result"
    }
   ],
   "source": [
    "df['y'].value_counts()"
   ]
  },
  {
   "cell_type": "markdown",
   "metadata": {},
   "source": [
    "### Plotting the data"
   ]
  },
  {
   "cell_type": "code",
   "execution_count": 9,
   "metadata": {},
   "outputs": [
    {
     "data": {
      "image/png": "[encoded data removed]",
      "text/plain": [
       "<Figure size 720x576 with 4 Axes>"
      ]
     },
     "metadata": {
      "needs_background": "light"
     },
     "output_type": "display_data"
    }
   ],
   "source": [
    "fig,ax = plt.subplots(2,2,figsize=(10,8))\n",
    "ax = ax.ravel()\n",
    "for i in range(4):\n",
    "    ax[i].scatter(df[df.columns[i]],df['y'],edgecolor='k',color='red',alpha=0.75)\n",
    "    ax[i].set_title(f\"{df.columns[i]} vs. y\",fontsize=14)\n",
    "    ax[i].grid(True)\n",
    "plt.show()"
   ]
  },
  {
   "cell_type": "markdown",
   "metadata": {},
   "source": [
    "### Test/train split"
   ]
  },
  {
   "cell_type": "code",
   "execution_count": 41,
   "metadata": {},
   "outputs": [],
   "source": [
    "#X = df[['X1','X2','X3','X4']]\n",
    "X = df.drop('y', axis=1)\n",
    "y = df['y']"
   ]
  },
  {
   "cell_type": "code",
   "execution_count": 42,
   "metadata": {},
   "outputs": [],
   "source": [
    "from sklearn.model_selection import train_test_split"
   ]
  },
  {
   "cell_type": "code",
   "execution_count": 43,
   "metadata": {},
   "outputs": [
    {
     "name": "stdout",
     "output_type": "stream",
     "text": [
      "           X1        X2        X3        X4\n",
      "95   1.994586  3.233234  3.986230  0.929154\n",
      "15   1.037333  2.563272  3.454287  4.910210\n",
      "30   3.285044  2.352968  1.676302  2.993161\n",
      "158  2.323759  4.994770  2.676223  0.535931\n",
      "128  1.341908  3.452624  2.306378  3.134665\n",
      "..        ...       ...       ...       ...\n",
      "97   2.177134  2.255729  2.318733  3.686251\n",
      "31   1.900596  1.887632  2.509042  1.477677\n",
      "12   2.708696  0.022189  3.834368  2.961102\n",
      "35   1.244014  0.735951  4.629057  4.780090\n",
      "119  4.012030  4.044690  4.109781  1.027568\n",
      "\n",
      "[66 rows x 4 columns]\n"
     ]
    }
   ],
   "source": [
    "X_train, X_test, y_train, y_test = train_test_split(X, y, test_size=0.33, random_state=42)\n",
    "print(X_test)"
   ]
  },
  {
   "cell_type": "code",
   "execution_count": 18,
   "metadata": {},
   "outputs": [
    {
     "name": "stdout",
     "output_type": "stream",
     "text": [
      "95     0.832199\n",
      "15    -0.336580\n",
      "30     0.921077\n",
      "158    3.004779\n",
      "128    0.116819\n",
      "         ...   \n",
      "97    -0.215488\n",
      "31     0.241073\n",
      "12     2.324849\n",
      "35    -1.340511\n",
      "119    3.379335\n",
      "Name: y, Length: 66, dtype: float64\n"
     ]
    }
   ],
   "source": [
    "print(y_test)"
   ]
  },
  {
   "cell_type": "markdown",
   "metadata": {},
   "source": [
    "### Support vector regressor with linear kernel\n",
    "\n",
    "Here is scikit-learn's SVR doc: https://scikit-learn.org/stable/modules/generated/sklearn.svm.SVR.html"
   ]
  },
  {
   "cell_type": "code",
   "execution_count": 19,
   "metadata": {},
   "outputs": [
    {
     "data": {
      "text/plain": [
       "SVR(kernel='linear')"
      ]
     },
     "execution_count": 19,
     "metadata": {},
     "output_type": "execute_result"
    }
   ],
   "source": [
    "from sklearn.svm import SVR\n",
    "svr_linear = SVR(kernel='linear',gamma='scale', C=1.0, epsilon=0.1)\n",
    "svr_linear.fit(X_train, y_train) "
   ]
  },
  {
   "cell_type": "markdown",
   "metadata": {},
   "source": [
    "### Test score"
   ]
  },
  {
   "cell_type": "code",
   "execution_count": 20,
   "metadata": {},
   "outputs": [
    {
     "data": {
      "text/plain": [
       "0.4530333135536315"
      ]
     },
     "execution_count": 20,
     "metadata": {},
     "output_type": "execute_result"
    }
   ],
   "source": [
    "svr_linear.score(X_test,y_test)"
   ]
  },
  {
   "cell_type": "markdown",
   "metadata": {},
   "source": [
    "### Linear regression as a baseline"
   ]
  },
  {
   "cell_type": "code",
   "execution_count": 21,
   "metadata": {},
   "outputs": [],
   "source": [
    "from sklearn.linear_model import LinearRegression"
   ]
  },
  {
   "cell_type": "code",
   "execution_count": 22,
   "metadata": {},
   "outputs": [],
   "source": [
    "linear = LinearRegression()"
   ]
  },
  {
   "cell_type": "code",
   "execution_count": 23,
   "metadata": {},
   "outputs": [
    {
     "data": {
      "text/plain": [
       "LinearRegression()"
      ]
     },
     "execution_count": 23,
     "metadata": {},
     "output_type": "execute_result"
    }
   ],
   "source": [
    "linear.fit(X_train,y_train)"
   ]
  },
  {
   "cell_type": "code",
   "execution_count": 24,
   "metadata": {},
   "outputs": [
    {
     "data": {
      "text/plain": [
       "0.47676434112405297"
      ]
     },
     "execution_count": 24,
     "metadata": {},
     "output_type": "execute_result"
    }
   ],
   "source": [
    "linear.score(X_test,y_test)"
   ]
  },
  {
   "cell_type": "markdown",
   "metadata": {},
   "source": [
    "### Support vector regressor with Gaussian (radial basis function) kernel"
   ]
  },
  {
   "cell_type": "code",
   "execution_count": 25,
   "metadata": {},
   "outputs": [
    {
     "data": {
      "text/plain": [
       "SVR()"
      ]
     },
     "execution_count": 25,
     "metadata": {},
     "output_type": "execute_result"
    }
   ],
   "source": [
    "svr_rbf = SVR(kernel='rbf',gamma='scale', C=1.0, epsilon=0.1)\n",
    "svr_rbf.fit(X_train, y_train) "
   ]
  },
  {
   "cell_type": "code",
   "execution_count": 26,
   "metadata": {},
   "outputs": [
    {
     "data": {
      "text/plain": [
       "0.6909402179133542"
      ]
     },
     "execution_count": 26,
     "metadata": {},
     "output_type": "execute_result"
    }
   ],
   "source": [
    "svr_rbf.score(X_test,y_test)"
   ]
  },
  {
   "cell_type": "markdown",
   "metadata": {},
   "source": [
    "So, clearly, the RBF kernel showed better accuracy on the test set"
   ]
  },
  {
   "cell_type": "code",
   "execution_count": 27,
   "metadata": {},
   "outputs": [],
   "source": [
    "from sklearn.metrics import mean_squared_error"
   ]
  },
  {
   "cell_type": "code",
   "execution_count": 28,
   "metadata": {},
   "outputs": [
    {
     "name": "stdout",
     "output_type": "stream",
     "text": [
      "RMSE for linear SVR: 1.6578449574962753\n",
      "RMSE for RBF kernelized SVR: 1.2461913192153196\n"
     ]
    }
   ],
   "source": [
    "print(\"RMSE for linear SVR:\",np.sqrt(mean_squared_error(y_test,svr_linear.predict(X_test))))\n",
    "print(\"RMSE for RBF kernelized SVR:\",np.sqrt(mean_squared_error(y_test,svr_rbf.predict(X_test))))"
   ]
  },
  {
   "cell_type": "markdown",
   "metadata": {},
   "source": [
    "### We can do a grid search of hyperparameters (with 5-fold cross-validation) to see if the test/validation score be improved"
   ]
  },
  {
   "cell_type": "code",
   "execution_count": 29,
   "metadata": {},
   "outputs": [],
   "source": [
    "from sklearn.model_selection import GridSearchCV"
   ]
  },
  {
   "cell_type": "code",
   "execution_count": 30,
   "metadata": {},
   "outputs": [],
   "source": [
    "params = {'C':[0.01,0.05,0.1,0.5,1,2,5],'epsilon':[0.1,0.2,0.5,1]}"
   ]
  },
  {
   "cell_type": "code",
   "execution_count": 31,
   "metadata": {},
   "outputs": [],
   "source": [
    "grid = GridSearchCV(svr_rbf,param_grid=params,cv=5,scoring='r2',verbose=1,return_train_score=True)"
   ]
  },
  {
   "cell_type": "code",
   "execution_count": 32,
   "metadata": {},
   "outputs": [
    {
     "name": "stdout",
     "output_type": "stream",
     "text": [
      "Fitting 5 folds for each of 28 candidates, totalling 140 fits\n"
     ]
    },
    {
     "data": {
      "text/plain": [
       "GridSearchCV(cv=5, estimator=SVR(),\n",
       "             param_grid={'C': [0.01, 0.05, 0.1, 0.5, 1, 2, 5],\n",
       "                         'epsilon': [0.1, 0.2, 0.5, 1]},\n",
       "             return_train_score=True, scoring='r2', verbose=1)"
      ]
     },
     "execution_count": 32,
     "metadata": {},
     "output_type": "execute_result"
    }
   ],
   "source": [
    "grid.fit(X_train,y_train)"
   ]
  },
  {
   "cell_type": "markdown",
   "metadata": {},
   "source": [
    "### Check which was deemed best estimator by the grid search"
   ]
  },
  {
   "cell_type": "code",
   "execution_count": 33,
   "metadata": {},
   "outputs": [
    {
     "data": {
      "text/plain": [
       "SVR(C=5, epsilon=1)"
      ]
     },
     "execution_count": 33,
     "metadata": {},
     "output_type": "execute_result"
    }
   ],
   "source": [
    "grid.best_estimator_"
   ]
  },
  {
   "cell_type": "markdown",
   "metadata": {},
   "source": [
    "### Fit that estimator to the data and see"
   ]
  },
  {
   "cell_type": "code",
   "execution_count": 34,
   "metadata": {},
   "outputs": [
    {
     "data": {
      "text/plain": [
       "SVR(C=5.0, epsilon=1.0)"
      ]
     },
     "execution_count": 34,
     "metadata": {},
     "output_type": "execute_result"
    }
   ],
   "source": [
    "svr_best=SVR(kernel='rbf',gamma='scale', C=5.0, epsilon=1.0)\n",
    "svr_best.fit(X_train, y_train)"
   ]
  },
  {
   "cell_type": "code",
   "execution_count": 35,
   "metadata": {},
   "outputs": [
    {
     "data": {
      "text/plain": [
       "0.7063332439670035"
      ]
     },
     "execution_count": 35,
     "metadata": {},
     "output_type": "execute_result"
    }
   ],
   "source": [
    "svr_best.score(X_test,y_test)"
   ]
  },
  {
   "cell_type": "code",
   "execution_count": 36,
   "metadata": {},
   "outputs": [
    {
     "name": "stdout",
     "output_type": "stream",
     "text": [
      "RMSE for RBF kernelized SVR: 1.2147610760506655\n"
     ]
    }
   ],
   "source": [
    "print(\"RMSE for RBF kernelized SVR:\",np.sqrt(mean_squared_error(y_test,svr_best.predict(X_test))))"
   ]
  },
  {
   "cell_type": "markdown",
   "metadata": {},
   "source": [
    "## MLP NN"
   ]
  },
  {
   "cell_type": "code",
   "execution_count": 51,
   "metadata": {},
   "outputs": [],
   "source": [
    "from sklearn.neural_network import MLPRegressor\n",
    "from sklearn.preprocessing import StandardScaler"
   ]
  },
  {
   "cell_type": "code",
   "execution_count": 52,
   "metadata": {},
   "outputs": [],
   "source": [
    "sc = StandardScaler()"
   ]
  },
  {
   "cell_type": "code",
   "execution_count": 54,
   "metadata": {},
   "outputs": [
    {
     "name": "stdout",
     "output_type": "stream",
     "text": [
      "[[ 9.95276196e-01 -1.10780677e+00  1.37969355e-01 -7.90542630e-01]\n",
      " [-2.82366572e-01 -1.25617350e+00  8.32110891e-01 -1.93985965e-02]\n",
      " [ 9.65662097e-01 -1.04554179e+00  1.58587036e+00 -1.56965798e+00]\n",
      " [-4.01892527e-01  1.23333550e+00  1.78073672e+00 -9.37327122e-01]\n",
      " [-4.12928483e-02  4.82701968e-02  6.03655509e-01  1.54370181e+00]\n",
      " [-1.31886121e+00 -9.24753708e-02 -3.63096114e-01  7.59601635e-01]\n",
      " [-1.31357977e+00 -1.11461984e+00 -1.25390746e+00 -8.92514713e-01]\n",
      " [ 1.26245950e+00 -5.27121751e-01 -1.22124269e+00  3.24566845e-01]\n",
      " [ 1.12162029e+00 -1.01714697e+00  1.82575140e+00  1.39195502e+00]\n",
      " [ 2.87599040e-01 -2.39820320e-01  3.98658572e-01  1.07778693e+00]\n",
      " [-1.35079092e+00  3.34375445e-01 -6.34150604e-01 -9.72202800e-01]\n",
      " [ 7.57240666e-01  4.23131632e-01  2.01526627e-01 -8.89104550e-01]\n",
      " [-1.09272444e+00 -2.80032692e-01 -1.57892687e+00 -1.85668311e-01]\n",
      " [-1.41616611e+00  7.82128223e-01  5.82102297e-01 -1.25534061e+00]\n",
      " [ 1.58430621e-01 -1.23575643e+00 -5.96941536e-01 -1.57526404e+00]\n",
      " [ 9.49965955e-01  1.36882751e+00 -1.41311635e+00  6.33270714e-01]\n",
      " [-3.46139648e-01 -4.29400656e-01  3.78485302e-01  3.65216809e-01]\n",
      " [ 1.47452539e+00 -1.39175953e+00  3.44449322e-01  1.13085534e-01]\n",
      " [-7.17299105e-01 -7.73024573e-01 -1.09280235e+00 -1.12957898e+00]\n",
      " [-4.84949467e-01 -1.10616272e-01  1.08845457e+00 -4.90231108e-01]\n",
      " [-6.35853536e-01  1.08736825e+00  4.61281532e-01  1.67470163e-01]\n",
      " [-4.26906364e-01 -1.05636291e+00  7.72577234e-01 -2.69546821e-01]\n",
      " [-1.53998607e+00  1.41992490e+00  1.11622714e-02  1.95239106e-02]\n",
      " [ 1.15439037e+00 -1.18310024e+00  1.74909794e+00  6.23083753e-01]\n",
      " [ 6.61940521e-01  1.67527217e+00  1.01243597e-01 -1.05693865e+00]\n",
      " [-1.41107966e+00 -6.05392628e-01 -1.49902482e+00  1.50407475e+00]\n",
      " [-1.30371612e+00  7.07873964e-02  9.23752455e-01 -6.87287026e-01]\n",
      " [ 7.41245988e-01  1.61912768e+00  1.68035230e+00 -9.65204342e-01]\n",
      " [-1.07467282e+00 -1.09723292e+00  1.36119208e+00  1.51160419e+00]\n",
      " [ 1.69867827e-01  1.18062161e+00 -3.49764486e-01 -7.48430249e-01]\n",
      " [-1.18288145e+00  1.67052627e-01 -1.56130695e+00 -1.44608176e+00]\n",
      " [ 8.66720707e-01 -3.66033755e-01  5.45439524e-01  1.71223558e+00]\n",
      " [-1.28904778e+00 -4.22793015e-01 -2.07227144e-01  1.19771365e+00]\n",
      " [ 4.79380459e-02  1.67593215e+00  1.46316284e+00  3.12055055e-01]\n",
      " [-1.56692709e+00  1.21501812e+00 -2.73216348e-01  1.16811834e+00]\n",
      " [-1.18421019e+00 -8.51764723e-01  8.34580317e-01  1.26236771e+00]\n",
      " [ 6.85337873e-01  1.70629753e+00  1.82498603e+00  5.67847234e-01]\n",
      " [ 2.33927905e-01  1.02357226e+00 -4.95783278e-01  1.41519356e+00]\n",
      " [-1.27706145e+00  6.41482133e-01  1.73127911e+00  2.54241282e-02]\n",
      " [ 1.28378402e+00  1.59692394e+00  8.40366810e-01  9.18768413e-01]\n",
      " [ 2.15923114e-01 -5.24867936e-02  1.09288690e+00  1.47325815e+00]\n",
      " [ 1.45500837e+00  1.65058446e+00 -1.60746426e+00 -1.49934564e+00]\n",
      " [-4.42499780e-01  1.39210643e+00  1.61017140e+00  1.33618511e+00]\n",
      " [ 1.57977905e+00 -8.42001400e-01  5.39369464e-01 -6.18198306e-01]\n",
      " [ 3.18199106e-01 -8.90061026e-01 -1.68598466e-01  1.53938097e+00]\n",
      " [ 1.42104949e+00 -1.04482233e+00  7.87048161e-01  1.31773814e-01]\n",
      " [-8.23884218e-01 -1.40570772e+00 -3.10593707e-01 -1.03874227e+00]\n",
      " [ 2.37066666e-01 -1.00962654e+00 -7.44613072e-01  6.49625808e-01]\n",
      " [-1.17050938e+00 -1.13001952e+00 -1.11910375e+00 -1.51936310e-01]\n",
      " [ 2.08138911e-01 -1.03003628e+00 -4.87756268e-01 -5.75736047e-01]\n",
      " [-9.11606124e-02  1.32997112e+00  1.51124089e+00  1.62901268e+00]\n",
      " [-6.44217138e-01 -1.21620430e+00 -2.55630798e-01  4.25665030e-01]\n",
      " [-1.29048175e+00  1.54266979e+00 -1.42999923e+00  8.24853338e-01]\n",
      " [-1.46695285e+00 -1.08706840e+00 -8.44419649e-01  1.85181102e-01]\n",
      " [ 1.48543698e+00  5.01527192e-01 -8.85879804e-01  1.03123719e+00]\n",
      " [ 8.19771293e-01  1.60346773e+00  1.45988539e+00  2.03471883e-01]\n",
      " [ 1.44477060e+00 -7.96759709e-01 -6.52715364e-01 -8.99067749e-01]\n",
      " [ 8.57159203e-01  1.57682907e+00 -1.58855970e+00 -8.38378894e-01]\n",
      " [ 8.36768136e-01 -4.12744494e-01 -1.28728842e-01 -1.30910638e+00]\n",
      " [ 8.37569844e-01 -1.34755198e+00 -1.63796151e-01  1.24242073e+00]\n",
      " [ 8.62663901e-01  5.61071595e-01  1.44086657e+00 -8.87256116e-01]\n",
      " [ 1.52399168e+00 -1.33684763e+00  2.73644094e-01 -9.00994122e-01]\n",
      " [-3.54301982e-01  9.33878508e-01 -1.29428375e+00 -7.92041515e-01]\n",
      " [-4.70974718e-01  9.63434760e-01 -4.40945662e-01 -4.14750906e-02]\n",
      " [ 1.45807026e+00 -3.93816109e-01 -8.79559470e-01  8.99632894e-01]\n",
      " [-6.55781227e-01 -1.33016305e+00  1.23726078e+00  5.55191273e-01]\n",
      " [ 5.82012078e-01  8.40235788e-01  1.55478877e+00  9.51141226e-01]\n",
      " [-1.02334082e+00 -1.32586111e+00  9.14369998e-01  4.04688397e-01]\n",
      " [-1.34944395e+00  1.59358998e+00 -2.54535712e-01  7.20310496e-01]\n",
      " [ 1.37532100e+00 -1.12877219e+00  8.91355218e-01 -1.25684821e+00]\n",
      " [-1.22247385e-01  1.31966999e+00  2.59894338e-02 -1.08604793e+00]\n",
      " [ 8.38229839e-01 -1.17670075e+00 -1.11108352e+00  2.61228969e-03]\n",
      " [ 1.56141921e+00  1.16325459e+00  9.16011854e-01 -4.18485808e-01]\n",
      " [ 1.44075906e+00  1.24562828e-02 -1.00707147e+00 -1.33812605e+00]\n",
      " [ 2.53103485e-01 -6.01493450e-01 -7.79991921e-01 -3.63169947e-01]\n",
      " [-1.11876522e+00  9.22818381e-01 -1.09102394e+00  6.50137407e-01]\n",
      " [ 4.42144064e-01 -5.50280392e-02 -3.36435656e-01 -8.38562780e-01]\n",
      " [ 7.09539618e-01  1.64569282e+00 -1.04022824e-03  1.53575821e+00]\n",
      " [-4.88608143e-03  2.72471444e-01  5.02606507e-03  1.19989521e+00]\n",
      " [ 1.50715953e+00 -1.23809990e+00  1.84191215e+00  1.28531646e+00]\n",
      " [-1.16305227e-01 -6.15940682e-01  1.05976788e+00  2.45357756e-02]\n",
      " [ 3.41733980e-01  6.98047214e-01 -1.39769448e+00 -3.10948627e-01]\n",
      " [-3.20841288e-01  1.61020663e+00 -1.03729983e-01 -1.39850594e+00]\n",
      " [-7.30386975e-01 -1.13681503e+00  9.51044341e-01 -7.88907915e-01]\n",
      " [-7.65424996e-01 -6.58498966e-01  5.20152287e-01 -1.63860457e+00]\n",
      " [-1.05389699e+00 -1.18033785e+00 -1.53796440e+00  3.05742889e-01]\n",
      " [-8.04556612e-01  3.34314738e-01 -2.61857460e-01  7.04434998e-01]\n",
      " [-4.71511922e-01 -1.93675555e-01 -1.58253804e+00 -9.31285175e-01]\n",
      " [-1.21108002e+00 -2.52087988e-01  1.36123930e+00 -6.80304683e-01]\n",
      " [-1.09141640e+00  4.52973027e-01 -1.66839605e+00  1.34442147e+00]\n",
      " [-8.99754646e-02  1.33880587e+00  6.10204892e-01  5.77116358e-02]\n",
      " [ 1.37245802e+00 -5.32349583e-01  7.87910724e-01  2.48673352e-01]\n",
      " [-1.35595966e+00 -1.37616734e+00 -6.09788338e-01 -4.34656163e-01]\n",
      " [ 1.27599370e+00  6.91668189e-01  1.86016379e-01 -3.95275843e-01]\n",
      " [ 3.74680361e-01  1.60175900e+00  1.07047899e+00  3.27168544e-01]\n",
      " [ 1.47521312e+00 -1.88359285e-01  7.31462926e-02  1.32566790e+00]\n",
      " [-4.94786458e-01  6.43724793e-01 -8.71774698e-01  1.61848369e+00]\n",
      " [-1.61851578e+00  1.37060098e+00 -1.33799468e+00  1.32924632e+00]\n",
      " [ 2.98251345e-01 -9.20583171e-01  6.42895202e-01  1.05903209e-01]\n",
      " [ 7.57971552e-01 -9.62847554e-01 -1.05170238e+00 -4.94725947e-01]\n",
      " [-3.87805029e-01  7.18156964e-01  3.10868807e-01  6.96686214e-01]\n",
      " [-5.88225333e-01 -1.41387396e+00 -1.16214284e+00  1.43197075e+00]\n",
      " [ 6.85129445e-01 -3.79894085e-01  5.49482218e-01 -1.35065155e+00]\n",
      " [-8.89393017e-01 -6.17858826e-01 -5.32353587e-01  7.76945368e-01]\n",
      " [ 2.36587239e-01 -9.95934078e-01  3.85186184e-01 -1.21685823e+00]\n",
      " [-1.09806326e+00  3.55878143e-01  2.45822853e-02 -6.93057217e-01]\n",
      " [-1.09821724e+00 -3.29325393e-02 -6.05306233e-01 -1.22240147e+00]\n",
      " [-7.31956903e-01  3.04277993e-01 -2.00044486e-01  1.56097820e+00]\n",
      " [ 2.60287577e-01  3.16072240e-01  1.40115505e+00 -9.82676002e-01]\n",
      " [-1.64496658e+00 -2.88823768e-01  2.37577789e-01  1.17419117e+00]\n",
      " [ 8.46535746e-01 -2.20831436e-02 -6.83842552e-01  3.52778900e-01]\n",
      " [-1.57005467e+00 -1.40609070e+00  8.31523053e-01 -1.43107990e+00]\n",
      " [ 4.92947051e-01 -3.72319216e-01  7.57444990e-01  1.31837916e+00]\n",
      " [ 1.15069415e+00 -7.56457646e-01  3.52451446e-01 -5.24876529e-01]\n",
      " [ 1.22289664e+00 -1.40619882e+00 -1.22081507e+00 -1.26664552e+00]\n",
      " [ 9.78762633e-01  5.25314965e-01  1.09142585e+00 -1.48869181e-01]\n",
      " [ 3.23842808e-01  1.92589745e-01 -1.62593819e+00 -4.13099111e-01]\n",
      " [ 1.00773461e+00 -6.00572391e-01 -8.79046174e-01  8.85099439e-01]\n",
      " [-5.56471777e-01  1.09767722e+00 -1.44763453e+00  7.66157810e-01]\n",
      " [-1.27260225e+00  6.07634402e-01 -1.33129681e+00  1.26156221e+00]\n",
      " [ 6.37401634e-01  1.07797075e+00 -8.18926354e-01 -1.18186375e+00]\n",
      " [ 5.83086714e-01  1.25323360e+00 -1.20581959e+00  8.19827736e-01]\n",
      " [-1.57152232e+00 -1.40865776e+00  3.89283456e-01  8.40423942e-01]\n",
      " [-1.65471988e+00  8.14028049e-01  9.20390641e-01 -3.66231019e-01]\n",
      " [-1.69007968e+00  5.69057272e-01 -6.56303880e-01 -1.03992547e+00]\n",
      " [ 8.95572526e-01 -6.58552366e-02 -9.63666797e-01  4.88440855e-01]\n",
      " [ 4.82489225e-01  1.26781098e+00 -1.01686390e+00 -7.97107953e-01]\n",
      " [ 1.49090938e+00 -1.13274562e+00  1.24507363e+00 -1.26342953e+00]\n",
      " [ 8.23040261e-01  7.73544613e-01 -3.55924753e-01 -1.26236717e+00]\n",
      " [-3.24603372e-02 -9.74144304e-01  1.00291435e-01 -1.47838095e+00]\n",
      " [ 4.72883212e-01 -4.13291822e-01  1.18270361e+00 -1.48820184e+00]\n",
      " [ 1.21624866e+00  1.27929714e+00 -1.63513994e+00 -1.53704630e+00]\n",
      " [ 1.27013625e+00 -1.18302858e+00 -5.59135616e-02 -1.43703526e+00]\n",
      " [-1.46342703e+00 -4.45548811e-01 -2.59611660e-01  1.65201128e+00]]\n"
     ]
    }
   ],
   "source": [
    "X_train_std = sc.fit_transform(X_train)\n",
    "print(X_train_std)"
   ]
  },
  {
   "cell_type": "code",
   "execution_count": 59,
   "metadata": {},
   "outputs": [
    {
     "name": "stderr",
     "output_type": "stream",
     "text": [
      "/home/zdai/anaconda3/envs/DLpy37/lib/python3.7/site-packages/sklearn/neural_network/_multilayer_perceptron.py:617: ConvergenceWarning: Stochastic Optimizer: Maximum iterations (1000) reached and the optimization hasn't converged yet.\n",
      "  % self.max_iter, ConvergenceWarning)\n"
     ]
    },
    {
     "data": {
      "text/plain": [
       "MLPRegressor(hidden_layer_sizes=(4, 3), max_iter=1000, random_state=1)"
      ]
     },
     "execution_count": 59,
     "metadata": {},
     "output_type": "execute_result"
    }
   ],
   "source": [
    "mlpr = MLPRegressor(hidden_layer_sizes=(4,3), random_state=1, max_iter=1000)\n",
    "mlpr.fit(X_train_std, y_train)"
   ]
  },
  {
   "cell_type": "code",
   "execution_count": null,
   "metadata": {},
   "outputs": [],
   "source": []
  }
 ],
 "metadata": {
  "kernelspec": {
   "display_name": "Python 3",
   "language": "python",
   "name": "python3"
  },
  "language_info": {
   "codemirror_mode": {
    "name": "ipython",
    "version": 3
   },
   "file_extension": ".py",
   "mimetype": "text/x-python",
   "name": "python",
   "nbconvert_exporter": "python",
   "pygments_lexer": "ipython3",
   "version": "3.7.9"
  }
 },
 "nbformat": 4,
 "nbformat_minor": 4
}

{
 "cells": [
  {
   "cell_type": "markdown",
   "metadata": {},
   "source": [
    "# Spatial Correlation Matrix to AOA\n",
    "\n",
    "This repo aims to learn the AOA of LoRa beacons from Spatial Correlation Matrix, R. Here is the nice article how support vector method (e.g, SVR) can also be used for regression.\n",
    "\n",
    "https://www.saedsayad.com/support_vector_machine_reg.htm"
   ]
  },
  {
   "cell_type": "code",
   "execution_count": 5,
   "metadata": {},
   "outputs": [],
   "source": [
    "import os\n",
    "from os.path import join\n",
    "import math\n",
    "import numpy as np\n",
    "import pandas as pd\n",
    "import matplotlib.pyplot as plt\n",
    "#import seaborn as sns\n",
    "\n",
    "from sklearn.ensemble import RandomForestClassifier\n",
    "from sklearn.svm import SVR\n",
    "from sklearn.neural_network import MLPRegressor\n",
    "from sklearn.model_selection import train_test_split, GridSearchCV\n",
    "from sklearn.preprocessing import StandardScaler, LabelEncoder\n",
    "from sklearn.metrics import confusion_matrix, classification_report, mean_squared_error, mean_absolute_error\n",
    "%matplotlib inline"
   ]
  },
  {
   "cell_type": "markdown",
   "metadata": {},
   "source": [
    "## Preparation\n",
    "Create dataset for training and testing from Rosbag recorded .csv file named as 'deg_(theta).csv'. Useful features lie in field 1, 2, 3, 6, 7, and 11 of the spatial correlation matrix, R."
   ]
  },
  {
   "cell_type": "code",
   "execution_count": 6,
   "metadata": {},
   "outputs": [],
   "source": [
    "data_dir = 'data_0106'\n",
    "aoa_dict = {}\n",
    "\n",
    "for filename in os.listdir(data_dir):\n",
    "    if filename.startswith(\"deg_m\") and filename.endswith(\".csv\"):\n",
    "        aoa = pd.read_csv(join(data_dir, filename), sep=',', header=0)\n",
    "        aoa_Rjk = aoa[['field.data1', 'field.data2', 'field.data3', 'field.data6', 'field.data7', 'field.data11']]\n",
    "        aoa_dict[- float(filename[5:-4])] = aoa_Rjk\n",
    "    elif filename.startswith(\"deg_\") and filename.endswith(\".csv\"):\n",
    "        aoa = pd.read_csv(join(data_dir, filename), sep=',', header=0)\n",
    "        aoa_Rjk = aoa[['field.data1', 'field.data2', 'field.data3', 'field.data6', 'field.data7', 'field.data11']]\n",
    "        aoa_dict[float(filename[4:-4])] = aoa_Rjk"
   ]
  },
  {
   "cell_type": "code",
   "execution_count": 68,
   "metadata": {
    "scrolled": true
   },
   "outputs": [
    {
     "data": {
      "text/html": [
       "<div>\n",
       "<style scoped>\n",
       "    .dataframe tbody tr th:only-of-type {\n",
       "        vertical-align: middle;\n",
       "    }\n",
       "\n",
       "    .dataframe tbody tr th {\n",
       "        vertical-align: top;\n",
       "    }\n",
       "\n",
       "    .dataframe thead th {\n",
       "        text-align: right;\n",
       "    }\n",
       "</style>\n",
       "<table border=\"1\" class=\"dataframe\">\n",
       "  <thead>\n",
       "    <tr style=\"text-align: right;\">\n",
       "      <th></th>\n",
       "      <th>field.data1</th>\n",
       "      <th>field.data2</th>\n",
       "      <th>field.data3</th>\n",
       "      <th>field.data6</th>\n",
       "      <th>field.data7</th>\n",
       "      <th>field.data11</th>\n",
       "      <th>theta</th>\n",
       "    </tr>\n",
       "  </thead>\n",
       "  <tbody>\n",
       "    <tr>\n",
       "      <th>0</th>\n",
       "      <td>1.991174e-08</td>\n",
       "      <td>1.028969e-08</td>\n",
       "      <td>6.949319e-08</td>\n",
       "      <td>-2.010913e-07</td>\n",
       "      <td>6.824267e-08</td>\n",
       "      <td>0.000002</td>\n",
       "      <td>-1.047198</td>\n",
       "    </tr>\n",
       "    <tr>\n",
       "      <th>1</th>\n",
       "      <td>1.831539e-08</td>\n",
       "      <td>1.150122e-08</td>\n",
       "      <td>7.293450e-08</td>\n",
       "      <td>-1.223310e-07</td>\n",
       "      <td>1.623128e-07</td>\n",
       "      <td>0.000002</td>\n",
       "      <td>-1.047198</td>\n",
       "    </tr>\n",
       "    <tr>\n",
       "      <th>2</th>\n",
       "      <td>1.820912e-08</td>\n",
       "      <td>1.208390e-08</td>\n",
       "      <td>6.593048e-08</td>\n",
       "      <td>-1.448767e-07</td>\n",
       "      <td>1.018442e-07</td>\n",
       "      <td>0.000002</td>\n",
       "      <td>-1.047198</td>\n",
       "    </tr>\n",
       "    <tr>\n",
       "      <th>3</th>\n",
       "      <td>2.016857e-08</td>\n",
       "      <td>1.256068e-08</td>\n",
       "      <td>7.107637e-08</td>\n",
       "      <td>-1.344811e-07</td>\n",
       "      <td>9.275814e-08</td>\n",
       "      <td>0.000002</td>\n",
       "      <td>-1.047198</td>\n",
       "    </tr>\n",
       "    <tr>\n",
       "      <th>4</th>\n",
       "      <td>2.285401e-08</td>\n",
       "      <td>1.230451e-08</td>\n",
       "      <td>7.479932e-08</td>\n",
       "      <td>-1.361074e-07</td>\n",
       "      <td>1.538713e-07</td>\n",
       "      <td>0.000002</td>\n",
       "      <td>-1.047198</td>\n",
       "    </tr>\n",
       "  </tbody>\n",
       "</table>\n",
       "</div>"
      ],
      "text/plain": [
       "    field.data1   field.data2   field.data3   field.data6   field.data7  \\\n",
       "0  1.991174e-08  1.028969e-08  6.949319e-08 -2.010913e-07  6.824267e-08   \n",
       "1  1.831539e-08  1.150122e-08  7.293450e-08 -1.223310e-07  1.623128e-07   \n",
       "2  1.820912e-08  1.208390e-08  6.593048e-08 -1.448767e-07  1.018442e-07   \n",
       "3  2.016857e-08  1.256068e-08  7.107637e-08 -1.344811e-07  9.275814e-08   \n",
       "4  2.285401e-08  1.230451e-08  7.479932e-08 -1.361074e-07  1.538713e-07   \n",
       "\n",
       "   field.data11     theta  \n",
       "0      0.000002 -1.047198  \n",
       "1      0.000002 -1.047198  \n",
       "2      0.000002 -1.047198  \n",
       "3      0.000002 -1.047198  \n",
       "4      0.000002 -1.047198  "
      ]
     },
     "execution_count": 68,
     "metadata": {},
     "output_type": "execute_result"
    }
   ],
   "source": [
    "aoa_dict[-60].head()"
   ]
  },
  {
   "cell_type": "code",
   "execution_count": 9,
   "metadata": {},
   "outputs": [
    {
     "name": "stdout",
     "output_type": "stream",
     "text": [
      "<class 'pandas.core.frame.DataFrame'>\n",
      "RangeIndex: 269 entries, 0 to 268\n",
      "Data columns (total 6 columns):\n",
      " #   Column        Non-Null Count  Dtype  \n",
      "---  ------        --------------  -----  \n",
      " 0   field.data1   269 non-null    float64\n",
      " 1   field.data2   269 non-null    float64\n",
      " 2   field.data3   269 non-null    float64\n",
      " 3   field.data6   269 non-null    float64\n",
      " 4   field.data7   269 non-null    float64\n",
      " 5   field.data11  269 non-null    float64\n",
      "dtypes: float64(6)\n",
      "memory usage: 12.7 KB\n"
     ]
    }
   ],
   "source": [
    "aoa_dict[0].info()"
   ]
  },
  {
   "cell_type": "code",
   "execution_count": 10,
   "metadata": {},
   "outputs": [
    {
     "name": "stderr",
     "output_type": "stream",
     "text": [
      "/home/zdai/anaconda3/envs/DLpy37/lib/python3.7/site-packages/ipykernel_launcher.py:3: SettingWithCopyWarning: \n",
      "A value is trying to be set on a copy of a slice from a DataFrame.\n",
      "Try using .loc[row_indexer,col_indexer] = value instead\n",
      "\n",
      "See the caveats in the documentation: https://pandas.pydata.org/pandas-docs/stable/user_guide/indexing.html#returning-a-view-versus-a-copy\n",
      "  This is separate from the ipykernel package so we can avoid doing imports until\n"
     ]
    }
   ],
   "source": [
    "#Degree to Radian\n",
    "for key in aoa_dict.keys():\n",
    "    aoa_dict[key]['theta'] = key * math.pi / 180"
   ]
  },
  {
   "cell_type": "code",
   "execution_count": 11,
   "metadata": {
    "scrolled": true
   },
   "outputs": [
    {
     "data": {
      "text/html": [
       "<div>\n",
       "<style scoped>\n",
       "    .dataframe tbody tr th:only-of-type {\n",
       "        vertical-align: middle;\n",
       "    }\n",
       "\n",
       "    .dataframe tbody tr th {\n",
       "        vertical-align: top;\n",
       "    }\n",
       "\n",
       "    .dataframe thead th {\n",
       "        text-align: right;\n",
       "    }\n",
       "</style>\n",
       "<table border=\"1\" class=\"dataframe\">\n",
       "  <thead>\n",
       "    <tr style=\"text-align: right;\">\n",
       "      <th></th>\n",
       "      <th>field.data1</th>\n",
       "      <th>field.data2</th>\n",
       "      <th>field.data3</th>\n",
       "      <th>field.data6</th>\n",
       "      <th>field.data7</th>\n",
       "      <th>field.data11</th>\n",
       "      <th>theta</th>\n",
       "    </tr>\n",
       "  </thead>\n",
       "  <tbody>\n",
       "    <tr>\n",
       "      <th>0</th>\n",
       "      <td>0.000399</td>\n",
       "      <td>-0.000359</td>\n",
       "      <td>-0.000245</td>\n",
       "      <td>-0.000937</td>\n",
       "      <td>0.001014</td>\n",
       "      <td>0.011725</td>\n",
       "      <td>0.0</td>\n",
       "    </tr>\n",
       "    <tr>\n",
       "      <th>14</th>\n",
       "      <td>0.006042</td>\n",
       "      <td>-0.004273</td>\n",
       "      <td>-0.002901</td>\n",
       "      <td>-0.016413</td>\n",
       "      <td>0.004441</td>\n",
       "      <td>0.104454</td>\n",
       "      <td>0.0</td>\n",
       "    </tr>\n",
       "    <tr>\n",
       "      <th>15</th>\n",
       "      <td>0.005552</td>\n",
       "      <td>-0.004102</td>\n",
       "      <td>-0.002887</td>\n",
       "      <td>-0.015961</td>\n",
       "      <td>0.002742</td>\n",
       "      <td>0.102230</td>\n",
       "      <td>0.0</td>\n",
       "    </tr>\n",
       "    <tr>\n",
       "      <th>16</th>\n",
       "      <td>0.005755</td>\n",
       "      <td>-0.004104</td>\n",
       "      <td>-0.003070</td>\n",
       "      <td>-0.017788</td>\n",
       "      <td>-0.001712</td>\n",
       "      <td>0.101776</td>\n",
       "      <td>0.0</td>\n",
       "    </tr>\n",
       "    <tr>\n",
       "      <th>17</th>\n",
       "      <td>0.004123</td>\n",
       "      <td>-0.004381</td>\n",
       "      <td>-0.004346</td>\n",
       "      <td>-0.014538</td>\n",
       "      <td>-0.000627</td>\n",
       "      <td>0.121335</td>\n",
       "      <td>0.0</td>\n",
       "    </tr>\n",
       "    <tr>\n",
       "      <th>...</th>\n",
       "      <td>...</td>\n",
       "      <td>...</td>\n",
       "      <td>...</td>\n",
       "      <td>...</td>\n",
       "      <td>...</td>\n",
       "      <td>...</td>\n",
       "      <td>...</td>\n",
       "    </tr>\n",
       "    <tr>\n",
       "      <th>258</th>\n",
       "      <td>0.005880</td>\n",
       "      <td>-0.001043</td>\n",
       "      <td>0.000075</td>\n",
       "      <td>-0.000127</td>\n",
       "      <td>0.009145</td>\n",
       "      <td>0.014606</td>\n",
       "      <td>0.0</td>\n",
       "    </tr>\n",
       "    <tr>\n",
       "      <th>259</th>\n",
       "      <td>0.006537</td>\n",
       "      <td>-0.001173</td>\n",
       "      <td>0.000117</td>\n",
       "      <td>0.000152</td>\n",
       "      <td>0.010935</td>\n",
       "      <td>0.016574</td>\n",
       "      <td>0.0</td>\n",
       "    </tr>\n",
       "    <tr>\n",
       "      <th>260</th>\n",
       "      <td>0.006470</td>\n",
       "      <td>-0.001204</td>\n",
       "      <td>0.000089</td>\n",
       "      <td>-0.000045</td>\n",
       "      <td>0.011023</td>\n",
       "      <td>0.017472</td>\n",
       "      <td>0.0</td>\n",
       "    </tr>\n",
       "    <tr>\n",
       "      <th>261</th>\n",
       "      <td>0.006530</td>\n",
       "      <td>-0.001210</td>\n",
       "      <td>0.000076</td>\n",
       "      <td>-0.000214</td>\n",
       "      <td>0.011017</td>\n",
       "      <td>0.018170</td>\n",
       "      <td>0.0</td>\n",
       "    </tr>\n",
       "    <tr>\n",
       "      <th>262</th>\n",
       "      <td>0.006483</td>\n",
       "      <td>-0.001162</td>\n",
       "      <td>0.000147</td>\n",
       "      <td>-0.000183</td>\n",
       "      <td>0.011137</td>\n",
       "      <td>0.017762</td>\n",
       "      <td>0.0</td>\n",
       "    </tr>\n",
       "  </tbody>\n",
       "</table>\n",
       "<p>78 rows × 7 columns</p>\n",
       "</div>"
      ],
      "text/plain": [
       "     field.data1  field.data2  field.data3  field.data6  field.data7  \\\n",
       "0       0.000399    -0.000359    -0.000245    -0.000937     0.001014   \n",
       "14      0.006042    -0.004273    -0.002901    -0.016413     0.004441   \n",
       "15      0.005552    -0.004102    -0.002887    -0.015961     0.002742   \n",
       "16      0.005755    -0.004104    -0.003070    -0.017788    -0.001712   \n",
       "17      0.004123    -0.004381    -0.004346    -0.014538    -0.000627   \n",
       "..           ...          ...          ...          ...          ...   \n",
       "258     0.005880    -0.001043     0.000075    -0.000127     0.009145   \n",
       "259     0.006537    -0.001173     0.000117     0.000152     0.010935   \n",
       "260     0.006470    -0.001204     0.000089    -0.000045     0.011023   \n",
       "261     0.006530    -0.001210     0.000076    -0.000214     0.011017   \n",
       "262     0.006483    -0.001162     0.000147    -0.000183     0.011137   \n",
       "\n",
       "     field.data11  theta  \n",
       "0        0.011725    0.0  \n",
       "14       0.104454    0.0  \n",
       "15       0.102230    0.0  \n",
       "16       0.101776    0.0  \n",
       "17       0.121335    0.0  \n",
       "..            ...    ...  \n",
       "258      0.014606    0.0  \n",
       "259      0.016574    0.0  \n",
       "260      0.017472    0.0  \n",
       "261      0.018170    0.0  \n",
       "262      0.017762    0.0  \n",
       "\n",
       "[78 rows x 7 columns]"
      ]
     },
     "execution_count": 11,
     "metadata": {},
     "output_type": "execute_result"
    }
   ],
   "source": [
    "# Show detection of LoRa beacon when Rjk is significant\n",
    "aoa_dict[0][abs(aoa_dict[0]['field.data1']) > 1e-04]"
   ]
  },
  {
   "cell_type": "code",
   "execution_count": 12,
   "metadata": {},
   "outputs": [],
   "source": [
    "# Differentiate R of LoRa signal or noise\n",
    "aoa_sig, aoa_noi = {}, {}\n",
    "for key in aoa_dict.keys():\n",
    "    aoa_sig[key] = aoa_dict[key].drop(aoa_dict[key][abs(aoa_dict[key]['field.data1']) < 1e-04].index)\n",
    "    aoa_noi[key] = aoa_dict[key].drop(aoa_dict[key][abs(aoa_dict[key]['field.data1']) >= 1e-04].index)"
   ]
  },
  {
   "cell_type": "code",
   "execution_count": 14,
   "metadata": {
    "scrolled": true
   },
   "outputs": [
    {
     "data": {
      "text/html": [
       "<div>\n",
       "<style scoped>\n",
       "    .dataframe tbody tr th:only-of-type {\n",
       "        vertical-align: middle;\n",
       "    }\n",
       "\n",
       "    .dataframe tbody tr th {\n",
       "        vertical-align: top;\n",
       "    }\n",
       "\n",
       "    .dataframe thead th {\n",
       "        text-align: right;\n",
       "    }\n",
       "</style>\n",
       "<table border=\"1\" class=\"dataframe\">\n",
       "  <thead>\n",
       "    <tr style=\"text-align: right;\">\n",
       "      <th></th>\n",
       "      <th>field.data1</th>\n",
       "      <th>field.data2</th>\n",
       "      <th>field.data3</th>\n",
       "      <th>field.data6</th>\n",
       "      <th>field.data7</th>\n",
       "      <th>field.data11</th>\n",
       "      <th>theta</th>\n",
       "    </tr>\n",
       "  </thead>\n",
       "  <tbody>\n",
       "    <tr>\n",
       "      <th>5</th>\n",
       "      <td>0.026438</td>\n",
       "      <td>-0.014055</td>\n",
       "      <td>-0.034578</td>\n",
       "      <td>-0.084833</td>\n",
       "      <td>-0.366615</td>\n",
       "      <td>0.195672</td>\n",
       "      <td>1.047198</td>\n",
       "    </tr>\n",
       "    <tr>\n",
       "      <th>6</th>\n",
       "      <td>0.026774</td>\n",
       "      <td>-0.013786</td>\n",
       "      <td>-0.034818</td>\n",
       "      <td>-0.082009</td>\n",
       "      <td>-0.367695</td>\n",
       "      <td>0.192285</td>\n",
       "      <td>1.047198</td>\n",
       "    </tr>\n",
       "    <tr>\n",
       "      <th>7</th>\n",
       "      <td>0.026639</td>\n",
       "      <td>-0.013434</td>\n",
       "      <td>-0.034519</td>\n",
       "      <td>-0.075749</td>\n",
       "      <td>-0.371168</td>\n",
       "      <td>0.185148</td>\n",
       "      <td>1.047198</td>\n",
       "    </tr>\n",
       "    <tr>\n",
       "      <th>8</th>\n",
       "      <td>0.026184</td>\n",
       "      <td>-0.014034</td>\n",
       "      <td>-0.034509</td>\n",
       "      <td>-0.088851</td>\n",
       "      <td>-0.379352</td>\n",
       "      <td>0.189543</td>\n",
       "      <td>1.047198</td>\n",
       "    </tr>\n",
       "    <tr>\n",
       "      <th>9</th>\n",
       "      <td>0.026539</td>\n",
       "      <td>-0.014476</td>\n",
       "      <td>-0.034825</td>\n",
       "      <td>-0.088819</td>\n",
       "      <td>-0.377695</td>\n",
       "      <td>0.197761</td>\n",
       "      <td>1.047198</td>\n",
       "    </tr>\n",
       "    <tr>\n",
       "      <th>...</th>\n",
       "      <td>...</td>\n",
       "      <td>...</td>\n",
       "      <td>...</td>\n",
       "      <td>...</td>\n",
       "      <td>...</td>\n",
       "      <td>...</td>\n",
       "      <td>...</td>\n",
       "    </tr>\n",
       "    <tr>\n",
       "      <th>407</th>\n",
       "      <td>0.000307</td>\n",
       "      <td>-0.002767</td>\n",
       "      <td>-0.003226</td>\n",
       "      <td>0.014748</td>\n",
       "      <td>-0.013180</td>\n",
       "      <td>0.039275</td>\n",
       "      <td>1.047198</td>\n",
       "    </tr>\n",
       "    <tr>\n",
       "      <th>408</th>\n",
       "      <td>0.000625</td>\n",
       "      <td>-0.002981</td>\n",
       "      <td>-0.003772</td>\n",
       "      <td>0.013551</td>\n",
       "      <td>-0.019973</td>\n",
       "      <td>0.039902</td>\n",
       "      <td>1.047198</td>\n",
       "    </tr>\n",
       "    <tr>\n",
       "      <th>409</th>\n",
       "      <td>0.000861</td>\n",
       "      <td>-0.003104</td>\n",
       "      <td>-0.004055</td>\n",
       "      <td>0.013314</td>\n",
       "      <td>-0.022932</td>\n",
       "      <td>0.040916</td>\n",
       "      <td>1.047198</td>\n",
       "    </tr>\n",
       "    <tr>\n",
       "      <th>410</th>\n",
       "      <td>0.001166</td>\n",
       "      <td>-0.003441</td>\n",
       "      <td>-0.004696</td>\n",
       "      <td>0.011603</td>\n",
       "      <td>-0.028606</td>\n",
       "      <td>0.043699</td>\n",
       "      <td>1.047198</td>\n",
       "    </tr>\n",
       "    <tr>\n",
       "      <th>411</th>\n",
       "      <td>0.001463</td>\n",
       "      <td>-0.003620</td>\n",
       "      <td>-0.004972</td>\n",
       "      <td>0.008078</td>\n",
       "      <td>-0.033656</td>\n",
       "      <td>0.043017</td>\n",
       "      <td>1.047198</td>\n",
       "    </tr>\n",
       "  </tbody>\n",
       "</table>\n",
       "<p>125 rows × 7 columns</p>\n",
       "</div>"
      ],
      "text/plain": [
       "     field.data1  field.data2  field.data3  field.data6  field.data7  \\\n",
       "5       0.026438    -0.014055    -0.034578    -0.084833    -0.366615   \n",
       "6       0.026774    -0.013786    -0.034818    -0.082009    -0.367695   \n",
       "7       0.026639    -0.013434    -0.034519    -0.075749    -0.371168   \n",
       "8       0.026184    -0.014034    -0.034509    -0.088851    -0.379352   \n",
       "9       0.026539    -0.014476    -0.034825    -0.088819    -0.377695   \n",
       "..           ...          ...          ...          ...          ...   \n",
       "407     0.000307    -0.002767    -0.003226     0.014748    -0.013180   \n",
       "408     0.000625    -0.002981    -0.003772     0.013551    -0.019973   \n",
       "409     0.000861    -0.003104    -0.004055     0.013314    -0.022932   \n",
       "410     0.001166    -0.003441    -0.004696     0.011603    -0.028606   \n",
       "411     0.001463    -0.003620    -0.004972     0.008078    -0.033656   \n",
       "\n",
       "     field.data11     theta  \n",
       "5        0.195672  1.047198  \n",
       "6        0.192285  1.047198  \n",
       "7        0.185148  1.047198  \n",
       "8        0.189543  1.047198  \n",
       "9        0.197761  1.047198  \n",
       "..            ...       ...  \n",
       "407      0.039275  1.047198  \n",
       "408      0.039902  1.047198  \n",
       "409      0.040916  1.047198  \n",
       "410      0.043699  1.047198  \n",
       "411      0.043017  1.047198  \n",
       "\n",
       "[125 rows x 7 columns]"
      ]
     },
     "execution_count": 14,
     "metadata": {},
     "output_type": "execute_result"
    }
   ],
   "source": [
    "aoa_sig[60]"
   ]
  },
  {
   "cell_type": "code",
   "execution_count": 16,
   "metadata": {
    "scrolled": true
   },
   "outputs": [
    {
     "data": {
      "text/plain": [
       " 0.872665    145\n",
       "-0.349066    138\n",
       " 1.047198    125\n",
       " 0.698132    114\n",
       " 0.349066    101\n",
       " 0.174533     95\n",
       "-1.047198     92\n",
       "-0.174533     89\n",
       " 0.000000     78\n",
       "-0.872665     71\n",
       "-0.698132     70\n",
       " 0.523599     58\n",
       "-0.523599     55\n",
       "Name: theta, dtype: int64"
      ]
     },
     "execution_count": 16,
     "metadata": {},
     "output_type": "execute_result"
    }
   ],
   "source": [
    "# Xaoa = aoa_sig <-> theta[Rad]\n",
    "Xaoa = pd.concat([aoa_sig[-60], aoa_sig[-50], aoa_sig[-40], aoa_sig[-30], aoa_sig[-20], aoa_sig[-10], aoa_sig[0], aoa_sig[10], aoa_sig[20], aoa_sig[30], aoa_sig[40], aoa_sig[50], aoa_sig[60]], ignore_index=True)\n",
    "Xaoa['theta'].value_counts()"
   ]
  },
  {
   "cell_type": "code",
   "execution_count": 17,
   "metadata": {},
   "outputs": [
    {
     "data": {
      "image/png": "[encoded data removed]",
      "text/plain": [
       "<Figure size 720x576 with 6 Axes>"
      ]
     },
     "metadata": {
      "needs_background": "light"
     },
     "output_type": "display_data"
    }
   ],
   "source": [
    "# Visualize data\n",
    "fig,ax = plt.subplots(3,2,figsize=(10,8))\n",
    "ax = ax.ravel()\n",
    "visual_key = 0\n",
    "for i in range(6):\n",
    "    ax[i].scatter(aoa_sig[visual_key][aoa_sig[visual_key].columns[i]],aoa_sig[visual_key]['theta'],edgecolor='k',color='red',alpha=0.75)\n",
    "    ax[i].set_title(f\"{aoa_sig[visual_key].columns[i]} vs. theta\",fontsize=8)\n",
    "    ax[i].grid(True)\n",
    "plt.show()"
   ]
  },
  {
   "cell_type": "markdown",
   "metadata": {},
   "source": [
    "## Training\n",
    "### SVR\n",
    "Here is scikit-learn's SVR doc: https://scikit-learn.org/stable/modules/generated/sklearn.svm.SVR.html"
   ]
  },
  {
   "cell_type": "code",
   "execution_count": 18,
   "metadata": {},
   "outputs": [],
   "source": [
    "X = Xaoa.drop('theta', axis=1)\n",
    "y = Xaoa['theta']"
   ]
  },
  {
   "cell_type": "code",
   "execution_count": 19,
   "metadata": {},
   "outputs": [],
   "source": [
    "X_train, X_test, y_train, y_test = train_test_split(X, y, test_size=0.2, random_state=42)"
   ]
  },
  {
   "cell_type": "code",
   "execution_count": 20,
   "metadata": {},
   "outputs": [
    {
     "data": {
      "text/plain": [
       "'\\nsc = StandardScaler()\\nX_train = sc.fit_transform(X_train)\\nX_test = sc.fit_transform(X_test)\\n'"
      ]
     },
     "execution_count": 20,
     "metadata": {},
     "output_type": "execute_result"
    }
   ],
   "source": [
    "'''\n",
    "sc = StandardScaler()\n",
    "X_train = sc.fit_transform(X_train)\n",
    "X_test = sc.fit_transform(X_test)\n",
    "'''"
   ]
  },
  {
   "cell_type": "markdown",
   "metadata": {},
   "source": [
    "### Kernal arg: 'rbf' vs 'sigmoid' vs 'linear'"
   ]
  },
  {
   "cell_type": "code",
   "execution_count": 21,
   "metadata": {},
   "outputs": [
    {
     "data": {
      "text/plain": [
       "SVR(C=2.0, epsilon=0.3)"
      ]
     },
     "execution_count": 21,
     "metadata": {},
     "output_type": "execute_result"
    }
   ],
   "source": [
    "# Support vector regressor with Gaussian (Radial Basis Function) kernel\n",
    "svr_1 = SVR(kernel='rbf',gamma='scale', C=2.0, epsilon=0.3)\n",
    "svr_1.fit(X_train, y_train) "
   ]
  },
  {
   "cell_type": "code",
   "execution_count": 22,
   "metadata": {},
   "outputs": [
    {
     "data": {
      "text/plain": [
       "0.6518584896816233"
      ]
     },
     "execution_count": 22,
     "metadata": {},
     "output_type": "execute_result"
    }
   ],
   "source": [
    "svr_1.score(X_test,y_test)"
   ]
  },
  {
   "cell_type": "code",
   "execution_count": 23,
   "metadata": {},
   "outputs": [
    {
     "name": "stdout",
     "output_type": "stream",
     "text": [
      "RMSE for RBF kernelized SVR: 0.3852566354423806\n"
     ]
    }
   ],
   "source": [
    "print(\"RMSE for RBF kernelized SVR:\",np.sqrt(mean_squared_error(y_test, svr_1.predict(X_test))))"
   ]
  },
  {
   "cell_type": "code",
   "execution_count": 24,
   "metadata": {
    "scrolled": true
   },
   "outputs": [
    {
     "name": "stdout",
     "output_type": "stream",
     "text": [
      "Fitting 5 folds for each of 28 candidates, totalling 140 fits\n"
     ]
    },
    {
     "data": {
      "text/plain": [
       "GridSearchCV(cv=5, estimator=SVR(C=2.0, epsilon=0.3),\n",
       "             param_grid={'C': [0.01, 0.05, 0.1, 0.5, 1, 2, 5],\n",
       "                         'epsilon': [0.1, 0.2, 0.5, 1]},\n",
       "             return_train_score=True, scoring='r2', verbose=1)"
      ]
     },
     "execution_count": 24,
     "metadata": {},
     "output_type": "execute_result"
    }
   ],
   "source": [
    "params = {'C':[0.01,0.05,0.1,0.5,1,2,5],'epsilon':[0.1,0.2,0.5,1]}\n",
    "grid = GridSearchCV(svr_1,param_grid=params,cv=5,scoring='r2',verbose=1,return_train_score=True)\n",
    "grid.fit(X_train,y_train)"
   ]
  },
  {
   "cell_type": "code",
   "execution_count": 25,
   "metadata": {},
   "outputs": [
    {
     "data": {
      "text/plain": [
       "SVR(C=5)"
      ]
     },
     "execution_count": 25,
     "metadata": {},
     "output_type": "execute_result"
    }
   ],
   "source": [
    "grid.best_estimator_"
   ]
  },
  {
   "cell_type": "code",
   "execution_count": 26,
   "metadata": {},
   "outputs": [
    {
     "data": {
      "text/plain": [
       "0.6752965450870837"
      ]
     },
     "execution_count": 26,
     "metadata": {},
     "output_type": "execute_result"
    }
   ],
   "source": [
    "svr_best=SVR(kernel='rbf',gamma='scale', C=5.0, epsilon=0.3)\n",
    "svr_best.fit(X_train, y_train)\n",
    "svr_best.score(X_test, y_test)"
   ]
  },
  {
   "cell_type": "code",
   "execution_count": 27,
   "metadata": {},
   "outputs": [
    {
     "name": "stdout",
     "output_type": "stream",
     "text": [
      "RMSE for RBF kernelized SVR: 0.3720623097177503\n"
     ]
    }
   ],
   "source": [
    "print(\"RMSE for RBF kernelized SVR:\",np.sqrt(mean_squared_error(y_test, svr_best.predict(X_test))))"
   ]
  },
  {
   "cell_type": "code",
   "execution_count": 99,
   "metadata": {},
   "outputs": [
    {
     "name": "stdout",
     "output_type": "stream",
     "text": [
      "[ 0.75738927 -0.59503799  0.28668487  0.41931718  0.1850472   1.1946854\n",
      "  0.31556508  0.11971728  0.61187773 -1.26512792 -0.62379803  0.55730759\n",
      "  0.95881409 -0.01770198  0.59672676  0.13778572  0.14149431  0.26747001\n",
      "  0.26169637  0.2328935  -0.89847703 -0.70399804  0.19548203  0.4561583\n",
      "  0.42541049  0.3930561  -0.61438316 -0.85609786 -0.98755323  0.12861823\n",
      "  0.22192352 -0.41779257 -0.89800314 -0.56934451 -0.71096435  0.24147868\n",
      " -0.70282857  0.87889231 -0.28738258  0.17034688  0.53492913  0.18755434\n",
      "  0.51664441  0.19672257 -0.45875119 -0.38609994  0.37397472 -0.62230089\n",
      " -0.75399445  0.36298371]\n"
     ]
    }
   ],
   "source": [
    "low_bound = 150\n",
    "high_bound = 200\n",
    "pred_y = svr_best.predict(X_test[low_bound:high_bound])\n",
    "print(pred_y)"
   ]
  },
  {
   "cell_type": "code",
   "execution_count": 104,
   "metadata": {
    "scrolled": true
   },
   "outputs": [
    {
     "name": "stdout",
     "output_type": "stream",
     "text": [
      "(247,)\n"
     ]
    }
   ],
   "source": [
    "y_test[low_bound:high_bound]\n",
    "print(y_test.shape)"
   ]
  },
  {
   "cell_type": "code",
   "execution_count": 101,
   "metadata": {},
   "outputs": [
    {
     "data": {
      "image/png": "[encoded data removed]",
      "text/plain": [
       "<Figure size 720x576 with 1 Axes>"
      ]
     },
     "metadata": {
      "needs_background": "light"
     },
     "output_type": "display_data"
    }
   ],
   "source": [
    "# Visualize data\n",
    "fig2,ax2 = plt.subplots(1,1,figsize=(10,8))\n",
    "ax2.plot([i for i in range(low_bound,high_bound)], list(pred_y), color='b', alpha=0.75, label='pred_y')\n",
    "ax2.plot([i for i in range(low_bound,high_bound)], list(y_test.to_numpy()[low_bound:high_bound]), color='red', alpha=0.75, label='y')\n",
    "ax2.set_title(f\"Pred_y v.s. y\",fontsize=14)\n",
    "ax2.grid(False)\n",
    "plt.show()"
   ]
  },
  {
   "cell_type": "markdown",
   "metadata": {},
   "source": [
    "### MLP ANN"
   ]
  },
  {
   "cell_type": "code",
   "execution_count": 28,
   "metadata": {},
   "outputs": [],
   "source": [
    "le = LabelEncoder()"
   ]
  },
  {
   "cell_type": "code",
   "execution_count": 29,
   "metadata": {},
   "outputs": [],
   "source": [
    "sc = StandardScaler()"
   ]
  },
  {
   "cell_type": "code",
   "execution_count": 30,
   "metadata": {},
   "outputs": [
    {
     "data": {
      "text/plain": [
       "array([[-1.53383171,  0.80051723,  1.74631085,  0.22648122,  1.58839804,\n",
       "        -0.94058144],\n",
       "       [ 0.75257566, -1.68416192, -1.28193799, -0.92587037, -1.4398277 ,\n",
       "         0.92463649],\n",
       "       [-1.57333376,  1.21937269,  0.83804217,  0.49933774,  1.69796219,\n",
       "        -0.74876525],\n",
       "       ...,\n",
       "       [ 1.18587644,  0.16399331, -0.33000171, -0.71226287, -0.85238085,\n",
       "         0.63764808],\n",
       "       [ 0.77518153,  0.06709535,  0.02762136, -0.84189231, -0.36725268,\n",
       "         0.07994146],\n",
       "       [-0.43136146, -0.19824806,  0.263634  , -0.42694175,  0.54900767,\n",
       "        -0.48417788]])"
      ]
     },
     "execution_count": 30,
     "metadata": {},
     "output_type": "execute_result"
    }
   ],
   "source": [
    "X_train_std = sc.fit_transform(X_train)\n",
    "X_test_std = sc.fit_transform(X_test)\n",
    "X_test_std"
   ]
  },
  {
   "cell_type": "code",
   "execution_count": 31,
   "metadata": {},
   "outputs": [
    {
     "data": {
      "text/plain": [
       "array([ 6, 11,  3,  6, 12, 10,  8,  6,  1,  1,  4, 11,  2, 11, 11,  4,  7,\n",
       "        4, 10,  4,  6,  4, 11, 12,  3, 11,  9, 12,  0,  0,  2, 10,  1,  4,\n",
       "        8,  7,  6,  1, 11,  1, 10,  8,  5, 11,  2,  3,  7, 10,  4, 10,  8,\n",
       "       11,  4,  0,  4, 12,  0,  4, 10,  8, 12,  7, 10,  8,  8,  8, 10, 11,\n",
       "        0, 11, 10, 11,  0,  8, 12,  5, 11,  3, 11,  6, 10,  8,  0,  6,  0,\n",
       "        9, 11,  0,  7, 10,  7, 12,  0,  4, 11,  2,  4,  9,  6, 12,  7,  2,\n",
       "       11,  7,  0,  7,  7,  6, 11, 10,  1,  2, 12,  0,  7,  4,  8,  0,  0,\n",
       "        5,  9,  1,  6, 12, 12,  6, 10,  4,  8,  6,  7, 12,  5,  5,  9,  4,\n",
       "       12,  6,  6,  8, 10,  4,  4,  9, 12,  8,  7, 10,  5,  3, 10,  4, 11,\n",
       "        7,  8, 12,  4,  4, 12,  0,  1, 10, 11,  5, 12, 12,  6,  8,  8,  8,\n",
       "        3,  3, 11,  7,  3,  7,  1,  2,  2, 12, 12,  5,  1,  1,  2,  4,  2,\n",
       "       12,  3,  6, 10,  8, 11,  4,  5,  4,  7,  2,  3,  8,  2,  5, 11,  1,\n",
       "        6,  4,  4,  3,  2, 12, 11,  6,  8,  4,  7, 11,  2,  2,  8,  5, 12,\n",
       "        4,  4, 11,  4,  6,  8,  6,  1,  5, 10,  2,  0,  6, 10, 12, 12,  4,\n",
       "        4,  7,  4,  9,  0,  7,  4,  4,  8])"
      ]
     },
     "execution_count": 31,
     "metadata": {},
     "output_type": "execute_result"
    }
   ],
   "source": [
    "y_train_std = le.fit_transform(y_train)\n",
    "y_test_std = le.fit_transform(y_test)\n",
    "y_test_std"
   ]
  },
  {
   "cell_type": "code",
   "execution_count": 32,
   "metadata": {},
   "outputs": [
    {
     "name": "stderr",
     "output_type": "stream",
     "text": [
      "/home/zdai/anaconda3/envs/DLpy37/lib/python3.7/site-packages/sklearn/neural_network/_multilayer_perceptron.py:617: ConvergenceWarning: Stochastic Optimizer: Maximum iterations (500) reached and the optimization hasn't converged yet.\n",
      "  % self.max_iter, ConvergenceWarning)\n"
     ]
    },
    {
     "data": {
      "text/plain": [
       "MLPRegressor(hidden_layer_sizes=4, max_iter=500, random_state=1)"
      ]
     },
     "execution_count": 32,
     "metadata": {},
     "output_type": "execute_result"
    }
   ],
   "source": [
    "mlpr = MLPRegressor(hidden_layer_sizes=4, random_state=1, max_iter=500)\n",
    "mlpr.fit(X_train_std, y_train_std)"
   ]
  },
  {
   "cell_type": "code",
   "execution_count": null,
   "metadata": {},
   "outputs": [],
   "source": []
  },
  {
   "cell_type": "markdown",
   "metadata": {},
   "source": [
    "## Autoencoder + FC"
   ]
  },
  {
   "cell_type": "code",
   "execution_count": null,
   "metadata": {},
   "outputs": [],
   "source": []
  },
  {
   "cell_type": "markdown",
   "metadata": {},
   "source": [
    "## DNN!"
   ]
  },
  {
   "cell_type": "code",
   "execution_count": null,
   "metadata": {},
   "outputs": [],
   "source": []
  }
 ],
 "metadata": {
  "kernelspec": {
   "display_name": "Python 3",
   "language": "python",
   "name": "python3"
  },
  "language_info": {
   "codemirror_mode": {
    "name": "ipython",
    "version": 3
   },
   "file_extension": ".py",
   "mimetype": "text/x-python",
   "name": "python",
   "nbconvert_exporter": "python",
   "pygments_lexer": "ipython3",
   "version": "3.7.9"
  }
 },
 "nbformat": 4,
 "nbformat_minor": 4
}
